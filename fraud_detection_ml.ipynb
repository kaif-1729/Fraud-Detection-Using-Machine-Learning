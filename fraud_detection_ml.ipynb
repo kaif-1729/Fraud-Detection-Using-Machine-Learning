{
 "cells": [
  {
   "cell_type": "markdown",
   "id": "ef15f154",
   "metadata": {
    "papermill": {
     "duration": 0.008715,
     "end_time": "2025-07-03T02:52:41.157034",
     "exception": false,
     "start_time": "2025-07-03T02:52:41.148319",
     "status": "completed"
    },
    "tags": []
   },
   "source": [
    "# Import Libraries"
   ]
  },
  {
   "cell_type": "code",
   "execution_count": 1,
   "id": "2786ce73",
   "metadata": {
    "execution": {
     "iopub.execute_input": "2025-07-03T02:52:41.174512Z",
     "iopub.status.busy": "2025-07-03T02:52:41.174193Z",
     "iopub.status.idle": "2025-07-03T02:52:46.021845Z",
     "shell.execute_reply": "2025-07-03T02:52:46.020804Z"
    },
    "papermill": {
     "duration": 4.858251,
     "end_time": "2025-07-03T02:52:46.023545",
     "exception": false,
     "start_time": "2025-07-03T02:52:41.165294",
     "status": "completed"
    },
    "tags": []
   },
   "outputs": [],
   "source": [
    "import seaborn as sns\n",
    "import matplotlib.pyplot as plt\n",
    "import pandas as pd\n",
    "import numpy as np\n",
    "\n",
    "\n",
    "from sklearn.model_selection import train_test_split\n",
    "from sklearn.preprocessing import StandardScaler, OneHotEncoder\n",
    "from sklearn.metrics import classification_report, confusion_matrix, roc_auc_score, roc_curve\n",
    "from sklearn.linear_model import LogisticRegression\n",
    "from sklearn.pipeline import Pipeline\n",
    "from sklearn.compose import ColumnTransformer\n",
    "import joblib\n",
    "\n",
    "\n",
    "import warnings\n",
    "warnings.filterwarnings('ignore')\n",
    "\n",
    "plt.style.use('dark_background')\n",
    "\n",
    "sns.set_style(\"darkgrid\", {\n",
    "    'axes.facecolor': '#111111',\n",
    "    'figure.facecolor': '#111111',\n",
    "    'axes.edgecolor': '#444444',\n",
    "    'grid.color': '#333333',\n",
    "    'text.color': 'white',\n",
    "    'xtick.color': 'white',\n",
    "    'ytick.color': 'white',\n",
    "    'axes.labelcolor': 'white',\n",
    "    'axes.grid': True,\n",
    "})\n"
   ]
  },
  {
   "cell_type": "markdown",
   "id": "cab8ff91",
   "metadata": {
    "papermill": {
     "duration": 0.008239,
     "end_time": "2025-07-03T02:52:46.040064",
     "exception": false,
     "start_time": "2025-07-03T02:52:46.031825",
     "status": "completed"
    },
    "tags": []
   },
   "source": [
    "# Get Data"
   ]
  },
  {
   "cell_type": "code",
   "execution_count": 2,
   "id": "9e7cc7b5",
   "metadata": {
    "execution": {
     "iopub.execute_input": "2025-07-03T02:52:46.058484Z",
     "iopub.status.busy": "2025-07-03T02:52:46.057885Z",
     "iopub.status.idle": "2025-07-03T02:53:07.443198Z",
     "shell.execute_reply": "2025-07-03T02:53:07.442219Z"
    },
    "papermill": {
     "duration": 21.396968,
     "end_time": "2025-07-03T02:53:07.445074",
     "exception": false,
     "start_time": "2025-07-03T02:52:46.048106",
     "status": "completed"
    },
    "tags": []
   },
   "outputs": [],
   "source": [
    "df = pd.read_csv(\"AIML Dataset.csv\")"
   ]
  },
  {
   "cell_type": "code",
   "execution_count": 3,
   "id": "a892cd0c",
   "metadata": {
    "execution": {
     "iopub.execute_input": "2025-07-03T02:53:07.462094Z",
     "iopub.status.busy": "2025-07-03T02:53:07.461747Z",
     "iopub.status.idle": "2025-07-03T02:53:07.851862Z",
     "shell.execute_reply": "2025-07-03T02:53:07.850962Z"
    },
    "papermill": {
     "duration": 0.400328,
     "end_time": "2025-07-03T02:53:07.853462",
     "exception": false,
     "start_time": "2025-07-03T02:53:07.453134",
     "status": "completed"
    },
    "tags": []
   },
   "outputs": [
    {
     "data": {
      "text/html": [
       "<div>\n",
       "<style scoped>\n",
       "    .dataframe tbody tr th:only-of-type {\n",
       "        vertical-align: middle;\n",
       "    }\n",
       "\n",
       "    .dataframe tbody tr th {\n",
       "        vertical-align: top;\n",
       "    }\n",
       "\n",
       "    .dataframe thead th {\n",
       "        text-align: right;\n",
       "    }\n",
       "</style>\n",
       "<table border=\"1\" class=\"dataframe\">\n",
       "  <thead>\n",
       "    <tr style=\"text-align: right;\">\n",
       "      <th></th>\n",
       "      <th>step</th>\n",
       "      <th>type</th>\n",
       "      <th>amount</th>\n",
       "      <th>nameOrig</th>\n",
       "      <th>oldbalanceOrg</th>\n",
       "      <th>newbalanceOrig</th>\n",
       "      <th>nameDest</th>\n",
       "      <th>oldbalanceDest</th>\n",
       "      <th>newbalanceDest</th>\n",
       "      <th>isFraud</th>\n",
       "      <th>isFlaggedFraud</th>\n",
       "    </tr>\n",
       "  </thead>\n",
       "  <tbody>\n",
       "    <tr>\n",
       "      <th>274753</th>\n",
       "      <td>15</td>\n",
       "      <td>PAYMENT</td>\n",
       "      <td>20891.77</td>\n",
       "      <td>C767429286</td>\n",
       "      <td>0.0</td>\n",
       "      <td>0.00</td>\n",
       "      <td>M2107336581</td>\n",
       "      <td>0.00</td>\n",
       "      <td>0.00</td>\n",
       "      <td>0</td>\n",
       "      <td>0</td>\n",
       "    </tr>\n",
       "    <tr>\n",
       "      <th>6016464</th>\n",
       "      <td>451</td>\n",
       "      <td>CASH_IN</td>\n",
       "      <td>193722.71</td>\n",
       "      <td>C1093733797</td>\n",
       "      <td>4264428.0</td>\n",
       "      <td>4458150.71</td>\n",
       "      <td>C379900172</td>\n",
       "      <td>198815.37</td>\n",
       "      <td>5092.66</td>\n",
       "      <td>0</td>\n",
       "      <td>0</td>\n",
       "    </tr>\n",
       "    <tr>\n",
       "      <th>1767176</th>\n",
       "      <td>162</td>\n",
       "      <td>CASH_OUT</td>\n",
       "      <td>35996.26</td>\n",
       "      <td>C157476376</td>\n",
       "      <td>0.0</td>\n",
       "      <td>0.00</td>\n",
       "      <td>C664668790</td>\n",
       "      <td>2057612.28</td>\n",
       "      <td>2791016.02</td>\n",
       "      <td>0</td>\n",
       "      <td>0</td>\n",
       "    </tr>\n",
       "    <tr>\n",
       "      <th>2199032</th>\n",
       "      <td>185</td>\n",
       "      <td>CASH_OUT</td>\n",
       "      <td>18577.95</td>\n",
       "      <td>C170659923</td>\n",
       "      <td>51087.0</td>\n",
       "      <td>32509.05</td>\n",
       "      <td>C681399846</td>\n",
       "      <td>1195577.58</td>\n",
       "      <td>1214155.53</td>\n",
       "      <td>0</td>\n",
       "      <td>0</td>\n",
       "    </tr>\n",
       "    <tr>\n",
       "      <th>4226647</th>\n",
       "      <td>306</td>\n",
       "      <td>PAYMENT</td>\n",
       "      <td>43972.94</td>\n",
       "      <td>C2060110597</td>\n",
       "      <td>0.0</td>\n",
       "      <td>0.00</td>\n",
       "      <td>M538459087</td>\n",
       "      <td>0.00</td>\n",
       "      <td>0.00</td>\n",
       "      <td>0</td>\n",
       "      <td>0</td>\n",
       "    </tr>\n",
       "  </tbody>\n",
       "</table>\n",
       "</div>"
      ],
      "text/plain": [
       "         step      type     amount     nameOrig  oldbalanceOrg  \\\n",
       "274753     15   PAYMENT   20891.77   C767429286            0.0   \n",
       "6016464   451   CASH_IN  193722.71  C1093733797      4264428.0   \n",
       "1767176   162  CASH_OUT   35996.26   C157476376            0.0   \n",
       "2199032   185  CASH_OUT   18577.95   C170659923        51087.0   \n",
       "4226647   306   PAYMENT   43972.94  C2060110597            0.0   \n",
       "\n",
       "         newbalanceOrig     nameDest  oldbalanceDest  newbalanceDest  isFraud  \\\n",
       "274753             0.00  M2107336581            0.00            0.00        0   \n",
       "6016464      4458150.71   C379900172       198815.37         5092.66        0   \n",
       "1767176            0.00   C664668790      2057612.28      2791016.02        0   \n",
       "2199032        32509.05   C681399846      1195577.58      1214155.53        0   \n",
       "4226647            0.00   M538459087            0.00            0.00        0   \n",
       "\n",
       "         isFlaggedFraud  \n",
       "274753                0  \n",
       "6016464               0  \n",
       "1767176               0  \n",
       "2199032               0  \n",
       "4226647               0  "
      ]
     },
     "execution_count": 3,
     "metadata": {},
     "output_type": "execute_result"
    }
   ],
   "source": [
    "df.sample(5)"
   ]
  },
  {
   "cell_type": "code",
   "execution_count": 4,
   "id": "b7975f96",
   "metadata": {
    "execution": {
     "iopub.execute_input": "2025-07-03T02:53:07.871087Z",
     "iopub.status.busy": "2025-07-03T02:53:07.870766Z",
     "iopub.status.idle": "2025-07-03T02:53:07.876719Z",
     "shell.execute_reply": "2025-07-03T02:53:07.875913Z"
    },
    "papermill": {
     "duration": 0.016353,
     "end_time": "2025-07-03T02:53:07.878234",
     "exception": false,
     "start_time": "2025-07-03T02:53:07.861881",
     "status": "completed"
    },
    "tags": []
   },
   "outputs": [
    {
     "data": {
      "text/plain": [
       "(6362620, 11)"
      ]
     },
     "execution_count": 4,
     "metadata": {},
     "output_type": "execute_result"
    }
   ],
   "source": [
    "df.shape"
   ]
  },
  {
   "cell_type": "code",
   "execution_count": 5,
   "id": "81b0041c",
   "metadata": {
    "execution": {
     "iopub.execute_input": "2025-07-03T02:53:07.897329Z",
     "iopub.status.busy": "2025-07-03T02:53:07.897022Z",
     "iopub.status.idle": "2025-07-03T02:53:09.960379Z",
     "shell.execute_reply": "2025-07-03T02:53:09.959479Z"
    },
    "papermill": {
     "duration": 2.075027,
     "end_time": "2025-07-03T02:53:09.962109",
     "exception": false,
     "start_time": "2025-07-03T02:53:07.887082",
     "status": "completed"
    },
    "tags": []
   },
   "outputs": [
    {
     "data": {
      "text/html": [
       "<div>\n",
       "<style scoped>\n",
       "    .dataframe tbody tr th:only-of-type {\n",
       "        vertical-align: middle;\n",
       "    }\n",
       "\n",
       "    .dataframe tbody tr th {\n",
       "        vertical-align: top;\n",
       "    }\n",
       "\n",
       "    .dataframe thead th {\n",
       "        text-align: right;\n",
       "    }\n",
       "</style>\n",
       "<table border=\"1\" class=\"dataframe\">\n",
       "  <thead>\n",
       "    <tr style=\"text-align: right;\">\n",
       "      <th></th>\n",
       "      <th>count</th>\n",
       "      <th>mean</th>\n",
       "      <th>std</th>\n",
       "      <th>min</th>\n",
       "      <th>25%</th>\n",
       "      <th>50%</th>\n",
       "      <th>75%</th>\n",
       "      <th>max</th>\n",
       "    </tr>\n",
       "  </thead>\n",
       "  <tbody>\n",
       "    <tr>\n",
       "      <th>step</th>\n",
       "      <td>6362620.0</td>\n",
       "      <td>2.433972e+02</td>\n",
       "      <td>1.423320e+02</td>\n",
       "      <td>1.0</td>\n",
       "      <td>156.00</td>\n",
       "      <td>239.000</td>\n",
       "      <td>3.350000e+02</td>\n",
       "      <td>7.430000e+02</td>\n",
       "    </tr>\n",
       "    <tr>\n",
       "      <th>amount</th>\n",
       "      <td>6362620.0</td>\n",
       "      <td>1.798619e+05</td>\n",
       "      <td>6.038582e+05</td>\n",
       "      <td>0.0</td>\n",
       "      <td>13389.57</td>\n",
       "      <td>74871.940</td>\n",
       "      <td>2.087215e+05</td>\n",
       "      <td>9.244552e+07</td>\n",
       "    </tr>\n",
       "    <tr>\n",
       "      <th>oldbalanceOrg</th>\n",
       "      <td>6362620.0</td>\n",
       "      <td>8.338831e+05</td>\n",
       "      <td>2.888243e+06</td>\n",
       "      <td>0.0</td>\n",
       "      <td>0.00</td>\n",
       "      <td>14208.000</td>\n",
       "      <td>1.073152e+05</td>\n",
       "      <td>5.958504e+07</td>\n",
       "    </tr>\n",
       "    <tr>\n",
       "      <th>newbalanceOrig</th>\n",
       "      <td>6362620.0</td>\n",
       "      <td>8.551137e+05</td>\n",
       "      <td>2.924049e+06</td>\n",
       "      <td>0.0</td>\n",
       "      <td>0.00</td>\n",
       "      <td>0.000</td>\n",
       "      <td>1.442584e+05</td>\n",
       "      <td>4.958504e+07</td>\n",
       "    </tr>\n",
       "    <tr>\n",
       "      <th>oldbalanceDest</th>\n",
       "      <td>6362620.0</td>\n",
       "      <td>1.100702e+06</td>\n",
       "      <td>3.399180e+06</td>\n",
       "      <td>0.0</td>\n",
       "      <td>0.00</td>\n",
       "      <td>132705.665</td>\n",
       "      <td>9.430367e+05</td>\n",
       "      <td>3.560159e+08</td>\n",
       "    </tr>\n",
       "    <tr>\n",
       "      <th>newbalanceDest</th>\n",
       "      <td>6362620.0</td>\n",
       "      <td>1.224996e+06</td>\n",
       "      <td>3.674129e+06</td>\n",
       "      <td>0.0</td>\n",
       "      <td>0.00</td>\n",
       "      <td>214661.440</td>\n",
       "      <td>1.111909e+06</td>\n",
       "      <td>3.561793e+08</td>\n",
       "    </tr>\n",
       "    <tr>\n",
       "      <th>isFraud</th>\n",
       "      <td>6362620.0</td>\n",
       "      <td>1.290820e-03</td>\n",
       "      <td>3.590480e-02</td>\n",
       "      <td>0.0</td>\n",
       "      <td>0.00</td>\n",
       "      <td>0.000</td>\n",
       "      <td>0.000000e+00</td>\n",
       "      <td>1.000000e+00</td>\n",
       "    </tr>\n",
       "    <tr>\n",
       "      <th>isFlaggedFraud</th>\n",
       "      <td>6362620.0</td>\n",
       "      <td>2.514687e-06</td>\n",
       "      <td>1.585775e-03</td>\n",
       "      <td>0.0</td>\n",
       "      <td>0.00</td>\n",
       "      <td>0.000</td>\n",
       "      <td>0.000000e+00</td>\n",
       "      <td>1.000000e+00</td>\n",
       "    </tr>\n",
       "  </tbody>\n",
       "</table>\n",
       "</div>"
      ],
      "text/plain": [
       "                    count          mean           std  min       25%  \\\n",
       "step            6362620.0  2.433972e+02  1.423320e+02  1.0    156.00   \n",
       "amount          6362620.0  1.798619e+05  6.038582e+05  0.0  13389.57   \n",
       "oldbalanceOrg   6362620.0  8.338831e+05  2.888243e+06  0.0      0.00   \n",
       "newbalanceOrig  6362620.0  8.551137e+05  2.924049e+06  0.0      0.00   \n",
       "oldbalanceDest  6362620.0  1.100702e+06  3.399180e+06  0.0      0.00   \n",
       "newbalanceDest  6362620.0  1.224996e+06  3.674129e+06  0.0      0.00   \n",
       "isFraud         6362620.0  1.290820e-03  3.590480e-02  0.0      0.00   \n",
       "isFlaggedFraud  6362620.0  2.514687e-06  1.585775e-03  0.0      0.00   \n",
       "\n",
       "                       50%           75%           max  \n",
       "step               239.000  3.350000e+02  7.430000e+02  \n",
       "amount           74871.940  2.087215e+05  9.244552e+07  \n",
       "oldbalanceOrg    14208.000  1.073152e+05  5.958504e+07  \n",
       "newbalanceOrig       0.000  1.442584e+05  4.958504e+07  \n",
       "oldbalanceDest  132705.665  9.430367e+05  3.560159e+08  \n",
       "newbalanceDest  214661.440  1.111909e+06  3.561793e+08  \n",
       "isFraud              0.000  0.000000e+00  1.000000e+00  \n",
       "isFlaggedFraud       0.000  0.000000e+00  1.000000e+00  "
      ]
     },
     "execution_count": 5,
     "metadata": {},
     "output_type": "execute_result"
    }
   ],
   "source": [
    "df.describe().T"
   ]
  },
  {
   "cell_type": "code",
   "execution_count": 6,
   "id": "2bd725b4",
   "metadata": {
    "execution": {
     "iopub.execute_input": "2025-07-03T02:53:09.980463Z",
     "iopub.status.busy": "2025-07-03T02:53:09.980143Z",
     "iopub.status.idle": "2025-07-03T02:53:31.271871Z",
     "shell.execute_reply": "2025-07-03T02:53:31.271022Z"
    },
    "papermill": {
     "duration": 21.302496,
     "end_time": "2025-07-03T02:53:31.273383",
     "exception": false,
     "start_time": "2025-07-03T02:53:09.970887",
     "status": "completed"
    },
    "tags": []
   },
   "outputs": [
    {
     "data": {
      "text/html": [
       "<div>\n",
       "<style scoped>\n",
       "    .dataframe tbody tr th:only-of-type {\n",
       "        vertical-align: middle;\n",
       "    }\n",
       "\n",
       "    .dataframe tbody tr th {\n",
       "        vertical-align: top;\n",
       "    }\n",
       "\n",
       "    .dataframe thead th {\n",
       "        text-align: right;\n",
       "    }\n",
       "</style>\n",
       "<table border=\"1\" class=\"dataframe\">\n",
       "  <thead>\n",
       "    <tr style=\"text-align: right;\">\n",
       "      <th></th>\n",
       "      <th>count</th>\n",
       "      <th>unique</th>\n",
       "      <th>top</th>\n",
       "      <th>freq</th>\n",
       "    </tr>\n",
       "  </thead>\n",
       "  <tbody>\n",
       "    <tr>\n",
       "      <th>type</th>\n",
       "      <td>6362620</td>\n",
       "      <td>5</td>\n",
       "      <td>CASH_OUT</td>\n",
       "      <td>2237500</td>\n",
       "    </tr>\n",
       "    <tr>\n",
       "      <th>nameOrig</th>\n",
       "      <td>6362620</td>\n",
       "      <td>6353307</td>\n",
       "      <td>C1677795071</td>\n",
       "      <td>3</td>\n",
       "    </tr>\n",
       "    <tr>\n",
       "      <th>nameDest</th>\n",
       "      <td>6362620</td>\n",
       "      <td>2722362</td>\n",
       "      <td>C1286084959</td>\n",
       "      <td>113</td>\n",
       "    </tr>\n",
       "  </tbody>\n",
       "</table>\n",
       "</div>"
      ],
      "text/plain": [
       "            count   unique          top     freq\n",
       "type      6362620        5     CASH_OUT  2237500\n",
       "nameOrig  6362620  6353307  C1677795071        3\n",
       "nameDest  6362620  2722362  C1286084959      113"
      ]
     },
     "execution_count": 6,
     "metadata": {},
     "output_type": "execute_result"
    }
   ],
   "source": [
    "df.describe(include='object').T"
   ]
  },
  {
   "cell_type": "code",
   "execution_count": 7,
   "id": "0aabeeb5",
   "metadata": {
    "execution": {
     "iopub.execute_input": "2025-07-03T02:53:31.291556Z",
     "iopub.status.busy": "2025-07-03T02:53:31.291210Z",
     "iopub.status.idle": "2025-07-03T02:53:31.314006Z",
     "shell.execute_reply": "2025-07-03T02:53:31.312863Z"
    },
    "papermill": {
     "duration": 0.033706,
     "end_time": "2025-07-03T02:53:31.315740",
     "exception": false,
     "start_time": "2025-07-03T02:53:31.282034",
     "status": "completed"
    },
    "tags": []
   },
   "outputs": [
    {
     "name": "stdout",
     "output_type": "stream",
     "text": [
      "<class 'pandas.core.frame.DataFrame'>\n",
      "RangeIndex: 6362620 entries, 0 to 6362619\n",
      "Data columns (total 11 columns):\n",
      " #   Column          Dtype  \n",
      "---  ------          -----  \n",
      " 0   step            int64  \n",
      " 1   type            object \n",
      " 2   amount          float64\n",
      " 3   nameOrig        object \n",
      " 4   oldbalanceOrg   float64\n",
      " 5   newbalanceOrig  float64\n",
      " 6   nameDest        object \n",
      " 7   oldbalanceDest  float64\n",
      " 8   newbalanceDest  float64\n",
      " 9   isFraud         int64  \n",
      " 10  isFlaggedFraud  int64  \n",
      "dtypes: float64(5), int64(3), object(3)\n",
      "memory usage: 534.0+ MB\n"
     ]
    }
   ],
   "source": [
    "df.info()"
   ]
  },
  {
   "cell_type": "code",
   "execution_count": 8,
   "id": "2aa10684",
   "metadata": {
    "execution": {
     "iopub.execute_input": "2025-07-03T02:53:31.333990Z",
     "iopub.status.busy": "2025-07-03T02:53:31.333687Z",
     "iopub.status.idle": "2025-07-03T02:53:31.339816Z",
     "shell.execute_reply": "2025-07-03T02:53:31.339000Z"
    },
    "papermill": {
     "duration": 0.016804,
     "end_time": "2025-07-03T02:53:31.341146",
     "exception": false,
     "start_time": "2025-07-03T02:53:31.324342",
     "status": "completed"
    },
    "tags": []
   },
   "outputs": [
    {
     "data": {
      "text/plain": [
       "['step',\n",
       " 'type',\n",
       " 'amount',\n",
       " 'nameOrig',\n",
       " 'oldbalanceOrg',\n",
       " 'newbalanceOrig',\n",
       " 'nameDest',\n",
       " 'oldbalanceDest',\n",
       " 'newbalanceDest',\n",
       " 'isFraud',\n",
       " 'isFlaggedFraud']"
      ]
     },
     "execution_count": 8,
     "metadata": {},
     "output_type": "execute_result"
    }
   ],
   "source": [
    "list(df.columns)"
   ]
  },
  {
   "cell_type": "code",
   "execution_count": 9,
   "id": "a173eab1",
   "metadata": {
    "execution": {
     "iopub.execute_input": "2025-07-03T02:53:31.359291Z",
     "iopub.status.busy": "2025-07-03T02:53:31.359007Z",
     "iopub.status.idle": "2025-07-03T02:53:31.404394Z",
     "shell.execute_reply": "2025-07-03T02:53:31.403505Z"
    },
    "papermill": {
     "duration": 0.056202,
     "end_time": "2025-07-03T02:53:31.405927",
     "exception": false,
     "start_time": "2025-07-03T02:53:31.349725",
     "status": "completed"
    },
    "tags": []
   },
   "outputs": [
    {
     "data": {
      "text/plain": [
       "isFraud\n",
       "0    6354407\n",
       "1       8213\n",
       "Name: count, dtype: int64"
      ]
     },
     "execution_count": 9,
     "metadata": {},
     "output_type": "execute_result"
    }
   ],
   "source": [
    "df['isFraud'].value_counts()"
   ]
  },
  {
   "cell_type": "code",
   "execution_count": 10,
   "id": "f24a8937",
   "metadata": {
    "execution": {
     "iopub.execute_input": "2025-07-03T02:53:31.424653Z",
     "iopub.status.busy": "2025-07-03T02:53:31.424310Z",
     "iopub.status.idle": "2025-07-03T02:53:31.469246Z",
     "shell.execute_reply": "2025-07-03T02:53:31.468281Z"
    },
    "papermill": {
     "duration": 0.055952,
     "end_time": "2025-07-03T02:53:31.470803",
     "exception": false,
     "start_time": "2025-07-03T02:53:31.414851",
     "status": "completed"
    },
    "tags": []
   },
   "outputs": [
    {
     "data": {
      "text/plain": [
       "isFlaggedFraud\n",
       "0    6362604\n",
       "1         16\n",
       "Name: count, dtype: int64"
      ]
     },
     "execution_count": 10,
     "metadata": {},
     "output_type": "execute_result"
    }
   ],
   "source": [
    "df['isFlaggedFraud'].value_counts()"
   ]
  },
  {
   "cell_type": "code",
   "execution_count": 11,
   "id": "89f7c905",
   "metadata": {
    "execution": {
     "iopub.execute_input": "2025-07-03T02:53:31.489440Z",
     "iopub.status.busy": "2025-07-03T02:53:31.489176Z",
     "iopub.status.idle": "2025-07-03T02:53:32.608825Z",
     "shell.execute_reply": "2025-07-03T02:53:32.607510Z"
    },
    "papermill": {
     "duration": 1.131692,
     "end_time": "2025-07-03T02:53:32.611266",
     "exception": false,
     "start_time": "2025-07-03T02:53:31.479574",
     "status": "completed"
    },
    "tags": []
   },
   "outputs": [
    {
     "data": {
      "text/plain": [
       "step              0\n",
       "type              0\n",
       "amount            0\n",
       "nameOrig          0\n",
       "oldbalanceOrg     0\n",
       "newbalanceOrig    0\n",
       "nameDest          0\n",
       "oldbalanceDest    0\n",
       "newbalanceDest    0\n",
       "isFraud           0\n",
       "isFlaggedFraud    0\n",
       "dtype: int64"
      ]
     },
     "execution_count": 11,
     "metadata": {},
     "output_type": "execute_result"
    }
   ],
   "source": [
    "df.isna().sum()"
   ]
  },
  {
   "cell_type": "markdown",
   "id": "540faedd",
   "metadata": {
    "papermill": {
     "duration": 0.008393,
     "end_time": "2025-07-03T02:53:32.628885",
     "exception": false,
     "start_time": "2025-07-03T02:53:32.620492",
     "status": "completed"
    },
    "tags": []
   },
   "source": [
    "# EDA"
   ]
  },
  {
   "cell_type": "code",
   "execution_count": 12,
   "id": "7ccd22d2",
   "metadata": {
    "execution": {
     "iopub.execute_input": "2025-07-03T02:53:32.647810Z",
     "iopub.status.busy": "2025-07-03T02:53:32.647359Z",
     "iopub.status.idle": "2025-07-03T02:53:32.692955Z",
     "shell.execute_reply": "2025-07-03T02:53:32.691992Z"
    },
    "papermill": {
     "duration": 0.056674,
     "end_time": "2025-07-03T02:53:32.694335",
     "exception": false,
     "start_time": "2025-07-03T02:53:32.637661",
     "status": "completed"
    },
    "tags": []
   },
   "outputs": [
    {
     "data": {
      "text/plain": [
       "np.float64(0.129)"
      ]
     },
     "execution_count": 12,
     "metadata": {},
     "output_type": "execute_result"
    }
   ],
   "source": [
    "round((df['isFraud'].value_counts()[1]/df.shape[0])*100, 3) # there is a class impalance"
   ]
  },
  {
   "cell_type": "code",
   "execution_count": 13,
   "id": "cb2e2440",
   "metadata": {
    "execution": {
     "iopub.execute_input": "2025-07-03T02:53:32.713710Z",
     "iopub.status.busy": "2025-07-03T02:53:32.713372Z",
     "iopub.status.idle": "2025-07-03T02:53:32.719410Z",
     "shell.execute_reply": "2025-07-03T02:53:32.718509Z"
    },
    "papermill": {
     "duration": 0.017389,
     "end_time": "2025-07-03T02:53:32.720821",
     "exception": false,
     "start_time": "2025-07-03T02:53:32.703432",
     "status": "completed"
    },
    "tags": []
   },
   "outputs": [
    {
     "data": {
      "text/plain": [
       "Index(['step', 'type', 'amount', 'nameOrig', 'oldbalanceOrg', 'newbalanceOrig',\n",
       "       'nameDest', 'oldbalanceDest', 'newbalanceDest', 'isFraud',\n",
       "       'isFlaggedFraud'],\n",
       "      dtype='object')"
      ]
     },
     "execution_count": 13,
     "metadata": {},
     "output_type": "execute_result"
    }
   ],
   "source": [
    "df.columns"
   ]
  },
  {
   "cell_type": "code",
   "execution_count": 14,
   "id": "dd6ad366",
   "metadata": {
    "execution": {
     "iopub.execute_input": "2025-07-03T02:53:32.808271Z",
     "iopub.status.busy": "2025-07-03T02:53:32.807940Z",
     "iopub.status.idle": "2025-07-03T02:53:33.671635Z",
     "shell.execute_reply": "2025-07-03T02:53:33.669835Z"
    },
    "papermill": {
     "duration": 0.875498,
     "end_time": "2025-07-03T02:53:33.673482",
     "exception": false,
     "start_time": "2025-07-03T02:53:32.797984",
     "status": "completed"
    },
    "tags": []
   },
   "outputs": [
    {
     "data": {
      "image/png": "[encoded data removed]",
      "text/plain": [
       "<Figure size 640x480 with 1 Axes>"
      ]
     },
     "metadata": {},
     "output_type": "display_data"
    }
   ],
   "source": [
    "type_counts = df['type'].value_counts()\n",
    "\n",
    "plt.bar(type_counts.index, type_counts.values)\n",
    "plt.xlabel('Transaction Type')\n",
    "plt.ylabel('Count')\n",
    "plt.title('Distribution of Types')\n",
    "plt.xticks(rotation=45) \n",
    "plt.tight_layout()\n",
    "plt.show()"
   ]
  },
  {
   "cell_type": "code",
   "execution_count": 15,
   "id": "a5e32f05",
   "metadata": {
    "execution": {
     "iopub.execute_input": "2025-07-03T02:53:33.695553Z",
     "iopub.status.busy": "2025-07-03T02:53:33.695211Z",
     "iopub.status.idle": "2025-07-03T02:53:34.291172Z",
     "shell.execute_reply": "2025-07-03T02:53:34.290126Z"
    },
    "papermill": {
     "duration": 0.609669,
     "end_time": "2025-07-03T02:53:34.293291",
     "exception": false,
     "start_time": "2025-07-03T02:53:33.683622",
     "status": "completed"
    },
    "tags": []
   },
   "outputs": [
    {
     "data": {
      "text/plain": [
       "type\n",
       "TRANSFER    0.007688\n",
       "CASH_OUT    0.001840\n",
       "CASH_IN     0.000000\n",
       "DEBIT       0.000000\n",
       "PAYMENT     0.000000\n",
       "Name: isFraud, dtype: float64"
      ]
     },
     "execution_count": 15,
     "metadata": {},
     "output_type": "execute_result"
    }
   ],
   "source": [
    "fraud_by_type = df.groupby('type')['isFraud'].mean().sort_values(ascending=False)\n",
    "fraud_by_type"
   ]
  },
  {
   "cell_type": "code",
   "execution_count": 16,
   "id": "99de7afb",
   "metadata": {
    "execution": {
     "iopub.execute_input": "2025-07-03T02:53:34.316140Z",
     "iopub.status.busy": "2025-07-03T02:53:34.315456Z",
     "iopub.status.idle": "2025-07-03T02:53:34.565602Z",
     "shell.execute_reply": "2025-07-03T02:53:34.564613Z"
    },
    "papermill": {
     "duration": 0.263618,
     "end_time": "2025-07-03T02:53:34.567253",
     "exception": false,
     "start_time": "2025-07-03T02:53:34.303635",
     "status": "completed"
    },
    "tags": []
   },
   "outputs": [
    {
     "data": {
      "image/png": "[encoded data removed]",
      "text/plain": [
       "<Figure size 640x480 with 1 Axes>"
      ]
     },
     "metadata": {},
     "output_type": "display_data"
    }
   ],
   "source": [
    "plt.bar(fraud_by_type.index, fraud_by_type.values)\n",
    "plt.xlabel('Types')\n",
    "plt.ylabel('Mean')\n",
    "plt.title('Fraud By Type')\n",
    "plt.xticks(rotation=45) \n",
    "plt.tight_layout()\n",
    "plt.show()"
   ]
  },
  {
   "cell_type": "code",
   "execution_count": 17,
   "id": "f49fbb12",
   "metadata": {
    "execution": {
     "iopub.execute_input": "2025-07-03T02:53:34.589127Z",
     "iopub.status.busy": "2025-07-03T02:53:34.588802Z",
     "iopub.status.idle": "2025-07-03T02:53:34.888097Z",
     "shell.execute_reply": "2025-07-03T02:53:34.887167Z"
    },
    "papermill": {
     "duration": 0.311699,
     "end_time": "2025-07-03T02:53:34.889478",
     "exception": false,
     "start_time": "2025-07-03T02:53:34.577779",
     "status": "completed"
    },
    "tags": []
   },
   "outputs": [
    {
     "data": {
      "text/plain": [
       "count     6362620\n",
       "mean       179861\n",
       "std        603858\n",
       "min             0\n",
       "25%         13389\n",
       "50%         74871\n",
       "75%        208721\n",
       "max      92445516\n",
       "Name: amount, dtype: int64"
      ]
     },
     "execution_count": 17,
     "metadata": {},
     "output_type": "execute_result"
    }
   ],
   "source": [
    "df['amount'].describe().astype(int)"
   ]
  },
  {
   "cell_type": "code",
   "execution_count": 18,
   "id": "3bf2dac8",
   "metadata": {
    "execution": {
     "iopub.execute_input": "2025-07-03T02:53:34.911077Z",
     "iopub.status.busy": "2025-07-03T02:53:34.910773Z",
     "iopub.status.idle": "2025-07-03T02:53:35.058126Z",
     "shell.execute_reply": "2025-07-03T02:53:35.057178Z"
    },
    "papermill": {
     "duration": 0.159795,
     "end_time": "2025-07-03T02:53:35.059570",
     "exception": false,
     "start_time": "2025-07-03T02:53:34.899775",
     "status": "completed"
    },
    "tags": []
   },
   "outputs": [
    {
     "data": {
      "text/plain": [
       "np.float64(74871.94)"
      ]
     },
     "execution_count": 18,
     "metadata": {},
     "output_type": "execute_result"
    }
   ],
   "source": [
    "df['amount'].median()"
   ]
  },
  {
   "cell_type": "code",
   "execution_count": 19,
   "id": "c8579e80",
   "metadata": {
    "execution": {
     "iopub.execute_input": "2025-07-03T02:53:35.082529Z",
     "iopub.status.busy": "2025-07-03T02:53:35.081536Z",
     "iopub.status.idle": "2025-07-03T02:54:03.313442Z",
     "shell.execute_reply": "2025-07-03T02:54:03.312321Z"
    },
    "papermill": {
     "duration": 28.246218,
     "end_time": "2025-07-03T02:54:03.316525",
     "exception": false,
     "start_time": "2025-07-03T02:53:35.070307",
     "status": "completed"
    },
    "tags": []
   },
   "outputs": [
    {
     "data": {
      "image/png": "[encoded data removed]",
      "text/plain": [
       "<Figure size 640x480 with 1 Axes>"
      ]
     },
     "metadata": {},
     "output_type": "display_data"
    }
   ],
   "source": [
    "sns.histplot(df['amount'], bins = 100, kde = True)\n",
    "plt.title(\"distribution before log scaled \")\n",
    "plt.xlabel(\"Amount\")\n",
    "plt.show()"
   ]
  },
  {
   "cell_type": "code",
   "execution_count": 20,
   "id": "eb94fdde",
   "metadata": {
    "execution": {
     "iopub.execute_input": "2025-07-03T02:54:03.347273Z",
     "iopub.status.busy": "2025-07-03T02:54:03.346858Z",
     "iopub.status.idle": "2025-07-03T02:54:33.191254Z",
     "shell.execute_reply": "2025-07-03T02:54:33.190244Z"
    },
    "papermill": {
     "duration": 29.858357,
     "end_time": "2025-07-03T02:54:33.192813",
     "exception": false,
     "start_time": "2025-07-03T02:54:03.334456",
     "status": "completed"
    },
    "tags": []
   },
   "outputs": [
    {
     "data": {
      "image/png": "[encoded data removed]",
      "text/plain": [
       "<Figure size 640x480 with 1 Axes>"
      ]
     },
     "metadata": {},
     "output_type": "display_data"
    }
   ],
   "source": [
    "sns.histplot(np.log1p(df['amount']), bins = 100, kde = True)\n",
    "plt.title(\"distribution after log scaled \")\n",
    "plt.xlabel(\"Log( 1 + Amount)\")\n",
    "plt.show()"
   ]
  },
  {
   "cell_type": "code",
   "execution_count": 21,
   "id": "0c964d63",
   "metadata": {
    "execution": {
     "iopub.execute_input": "2025-07-03T02:54:33.217848Z",
     "iopub.status.busy": "2025-07-03T02:54:33.217487Z",
     "iopub.status.idle": "2025-07-03T02:54:34.431755Z",
     "shell.execute_reply": "2025-07-03T02:54:34.430681Z"
    },
    "papermill": {
     "duration": 1.228271,
     "end_time": "2025-07-03T02:54:34.433374",
     "exception": false,
     "start_time": "2025-07-03T02:54:33.205103",
     "status": "completed"
    },
    "tags": []
   },
   "outputs": [
    {
     "data": {
      "image/png": "[encoded data removed]",
      "text/plain": [
       "<Figure size 640x480 with 1 Axes>"
      ]
     },
     "metadata": {},
     "output_type": "display_data"
    }
   ],
   "source": [
    "sns.boxplot(data = df[df['amount'] < 70000], x = 'isFraud', y = 'amount')\n",
    "plt.title(\"Amount vs Fraud (Filtered below 70000)\")\n",
    "plt.show()"
   ]
  },
  {
   "cell_type": "code",
   "execution_count": 22,
   "id": "18987672",
   "metadata": {},
   "outputs": [],
   "source": [
    "df[\"balanceDiffOrig\"] = df[\"oldbalanceOrg\"] - df[\"newbalanceOrig\"]\n",
    "df[\"balanceDiffDest\"] = df[\"newbalanceDest\"] - df[\"oldbalanceDest\"]"
   ]
  },
  {
   "cell_type": "code",
   "execution_count": 23,
   "id": "5bced909",
   "metadata": {
    "execution": {
     "iopub.execute_input": "2025-07-03T02:54:34.562069Z",
     "iopub.status.busy": "2025-07-03T02:54:34.561769Z",
     "iopub.status.idle": "2025-07-03T02:54:34.865438Z",
     "shell.execute_reply": "2025-07-03T02:54:34.864530Z"
    },
    "papermill": {
     "duration": 0.317824,
     "end_time": "2025-07-03T02:54:34.867084",
     "exception": false,
     "start_time": "2025-07-03T02:54:34.549260",
     "status": "completed"
    },
    "tags": []
   },
   "outputs": [
    {
     "data": {
      "image/png": "[encoded data removed]",
      "text/plain": [
       "<Figure size 640x480 with 1 Axes>"
      ]
     },
     "metadata": {},
     "output_type": "display_data"
    }
   ],
   "source": [
    "frauds_per_Step = df[df['isFraud'] == 1]['step'].value_counts().sort_index()\n",
    "\n",
    "plt.plot(frauds_per_Step.index, frauds_per_Step.values, label = \"fraud per step\")\n",
    "plt.title(\"Frauds over time\")\n",
    "plt.xlabel(\"Step (Time)\")\n",
    "plt.ylabel(\"Number of frauds\")\n",
    "plt.grid(True)\n",
    "plt.show()\n",
    "# we gain that it is time independent so let's drop it"
   ]
  },
  {
   "cell_type": "code",
   "execution_count": 24,
   "id": "bd0dc67a",
   "metadata": {
    "execution": {
     "iopub.execute_input": "2025-07-03T02:54:34.894830Z",
     "iopub.status.busy": "2025-07-03T02:54:34.894435Z",
     "iopub.status.idle": "2025-07-03T02:54:35.460743Z",
     "shell.execute_reply": "2025-07-03T02:54:35.459745Z"
    },
    "papermill": {
     "duration": 0.582164,
     "end_time": "2025-07-03T02:54:35.462666",
     "exception": false,
     "start_time": "2025-07-03T02:54:34.880502",
     "status": "completed"
    },
    "tags": []
   },
   "outputs": [],
   "source": [
    "df.drop(columns = 'step', inplace=True)"
   ]
  },
  {
   "cell_type": "code",
   "execution_count": 25,
   "id": "90c8a327",
   "metadata": {
    "execution": {
     "iopub.execute_input": "2025-07-03T02:54:35.490023Z",
     "iopub.status.busy": "2025-07-03T02:54:35.489658Z",
     "iopub.status.idle": "2025-07-03T02:54:44.063561Z",
     "shell.execute_reply": "2025-07-03T02:54:44.062530Z"
    },
    "papermill": {
     "duration": 8.589145,
     "end_time": "2025-07-03T02:54:44.065269",
     "exception": false,
     "start_time": "2025-07-03T02:54:35.476124",
     "status": "completed"
    },
    "tags": []
   },
   "outputs": [
    {
     "data": {
      "text/plain": [
       "nameOrig\n",
       "C1677795071    3\n",
       "C1999539787    3\n",
       "C724452879     3\n",
       "C1976208114    3\n",
       "C400299098     3\n",
       "C1784010646    3\n",
       "C1530544995    3\n",
       "C1065307291    3\n",
       "C545315117     3\n",
       "C1902386530    3\n",
       "Name: count, dtype: int64"
      ]
     },
     "execution_count": 25,
     "metadata": {},
     "output_type": "execute_result"
    }
   ],
   "source": [
    "top_senders = df['nameOrig'].value_counts().head(10)\n",
    "top_senders"
   ]
  },
  {
   "cell_type": "code",
   "execution_count": 26,
   "id": "2843afe5",
   "metadata": {
    "execution": {
     "iopub.execute_input": "2025-07-03T02:54:44.093426Z",
     "iopub.status.busy": "2025-07-03T02:54:44.093096Z",
     "iopub.status.idle": "2025-07-03T02:54:49.221068Z",
     "shell.execute_reply": "2025-07-03T02:54:49.219766Z"
    },
    "papermill": {
     "duration": 5.143999,
     "end_time": "2025-07-03T02:54:49.222985",
     "exception": false,
     "start_time": "2025-07-03T02:54:44.078986",
     "status": "completed"
    },
    "tags": []
   },
   "outputs": [
    {
     "data": {
      "text/plain": [
       "nameDest\n",
       "C1286084959    113\n",
       "C985934102     109\n",
       "C665576141     105\n",
       "C2083562754    102\n",
       "C248609774     101\n",
       "C1590550415    101\n",
       "C1789550256     99\n",
       "C451111351      99\n",
       "C1360767589     98\n",
       "C1023714065     97\n",
       "Name: count, dtype: int64"
      ]
     },
     "execution_count": 26,
     "metadata": {},
     "output_type": "execute_result"
    }
   ],
   "source": [
    "top_recievers = df['nameDest'].value_counts().head(10)\n",
    "top_recievers"
   ]
  },
  {
   "cell_type": "code",
   "execution_count": 27,
   "id": "4f9ee489",
   "metadata": {
    "execution": {
     "iopub.execute_input": "2025-07-03T02:54:49.253689Z",
     "iopub.status.busy": "2025-07-03T02:54:49.253317Z",
     "iopub.status.idle": "2025-07-03T02:54:49.276165Z",
     "shell.execute_reply": "2025-07-03T02:54:49.275165Z"
    },
    "papermill": {
     "duration": 0.040843,
     "end_time": "2025-07-03T02:54:49.278085",
     "exception": false,
     "start_time": "2025-07-03T02:54:49.237242",
     "status": "completed"
    },
    "tags": []
   },
   "outputs": [
    {
     "data": {
      "text/plain": [
       "nameDest\n",
       "C967226405     2\n",
       "C1601170327    2\n",
       "C650699445     2\n",
       "C105660024     2\n",
       "C1981613973    2\n",
       "C803116137     2\n",
       "C505532836     2\n",
       "C964377943     2\n",
       "C200064275     2\n",
       "C1259079602    2\n",
       "Name: count, dtype: int64"
      ]
     },
     "execution_count": 27,
     "metadata": {},
     "output_type": "execute_result"
    }
   ],
   "source": [
    "fraud_users = df[df['isFraud'] == 1]['nameDest'].value_counts().head(10)\n",
    "fraud_users"
   ]
  },
  {
   "cell_type": "code",
   "execution_count": 28,
   "id": "e1a4dc47",
   "metadata": {
    "execution": {
     "iopub.execute_input": "2025-07-03T02:54:49.313488Z",
     "iopub.status.busy": "2025-07-03T02:54:49.313076Z",
     "iopub.status.idle": "2025-07-03T02:54:49.869678Z",
     "shell.execute_reply": "2025-07-03T02:54:49.868792Z"
    },
    "papermill": {
     "duration": 0.57299,
     "end_time": "2025-07-03T02:54:49.871558",
     "exception": false,
     "start_time": "2025-07-03T02:54:49.298568",
     "status": "completed"
    },
    "tags": []
   },
   "outputs": [],
   "source": [
    "transfer_and_cash_out_df = df[df['type'].isin(['TRANSFER', 'CASH_OUT'])]"
   ]
  },
  {
   "cell_type": "code",
   "execution_count": 29,
   "id": "7ef657dc",
   "metadata": {
    "execution": {
     "iopub.execute_input": "2025-07-03T02:54:49.900745Z",
     "iopub.status.busy": "2025-07-03T02:54:49.899932Z",
     "iopub.status.idle": "2025-07-03T02:54:50.137217Z",
     "shell.execute_reply": "2025-07-03T02:54:50.135958Z"
    },
    "papermill": {
     "duration": 0.253263,
     "end_time": "2025-07-03T02:54:50.139207",
     "exception": false,
     "start_time": "2025-07-03T02:54:49.885944",
     "status": "completed"
    },
    "tags": []
   },
   "outputs": [
    {
     "data": {
      "text/plain": [
       "type\n",
       "CASH_OUT    2237500\n",
       "TRANSFER     532909\n",
       "Name: count, dtype: int64"
      ]
     },
     "execution_count": 29,
     "metadata": {},
     "output_type": "execute_result"
    }
   ],
   "source": [
    "transfer_and_cash_out_df['type'].value_counts()"
   ]
  },
  {
   "cell_type": "code",
   "execution_count": 30,
   "id": "8d1c38e6",
   "metadata": {
    "execution": {
     "iopub.execute_input": "2025-07-03T02:54:50.167304Z",
     "iopub.status.busy": "2025-07-03T02:54:50.167001Z",
     "iopub.status.idle": "2025-07-03T02:54:52.152092Z",
     "shell.execute_reply": "2025-07-03T02:54:52.150937Z"
    },
    "papermill": {
     "duration": 2.001084,
     "end_time": "2025-07-03T02:54:52.153843",
     "exception": false,
     "start_time": "2025-07-03T02:54:50.152759",
     "status": "completed"
    },
    "tags": []
   },
   "outputs": [
    {
     "data": {
      "image/png": "[encoded data removed]",
      "text/plain": [
       "<Figure size 640x480 with 1 Axes>"
      ]
     },
     "metadata": {},
     "output_type": "display_data"
    }
   ],
   "source": [
    "sns.countplot(data = transfer_and_cash_out_df, x ='type', hue = 'isFraud')\n",
    "plt.title(\"Fraud Distribution by Types (TRANSFER and CASH_OUT)\")\n",
    "plt.show()"
   ]
  },
  {
   "cell_type": "code",
   "execution_count": 31,
   "id": "b5da1373",
   "metadata": {
    "execution": {
     "iopub.execute_input": "2025-07-03T02:54:52.182656Z",
     "iopub.status.busy": "2025-07-03T02:54:52.182300Z",
     "iopub.status.idle": "2025-07-03T02:54:53.327010Z",
     "shell.execute_reply": "2025-07-03T02:54:53.325843Z"
    },
    "papermill": {
     "duration": 1.161742,
     "end_time": "2025-07-03T02:54:53.329553",
     "exception": false,
     "start_time": "2025-07-03T02:54:52.167811",
     "status": "completed"
    },
    "tags": []
   },
   "outputs": [],
   "source": [
    "corr = df[['amount', 'oldbalanceOrg', 'newbalanceOrig', 'oldbalanceDest', 'newbalanceDest', 'isFraud']].corr()"
   ]
  },
  {
   "cell_type": "code",
   "execution_count": 32,
   "id": "fd6a073d",
   "metadata": {
    "execution": {
     "iopub.execute_input": "2025-07-03T02:54:53.364237Z",
     "iopub.status.busy": "2025-07-03T02:54:53.363282Z",
     "iopub.status.idle": "2025-07-03T02:54:53.376000Z",
     "shell.execute_reply": "2025-07-03T02:54:53.375094Z"
    },
    "papermill": {
     "duration": 0.029728,
     "end_time": "2025-07-03T02:54:53.377691",
     "exception": false,
     "start_time": "2025-07-03T02:54:53.347963",
     "status": "completed"
    },
    "tags": []
   },
   "outputs": [
    {
     "data": {
      "text/html": [
       "<div>\n",
       "<style scoped>\n",
       "    .dataframe tbody tr th:only-of-type {\n",
       "        vertical-align: middle;\n",
       "    }\n",
       "\n",
       "    .dataframe tbody tr th {\n",
       "        vertical-align: top;\n",
       "    }\n",
       "\n",
       "    .dataframe thead th {\n",
       "        text-align: right;\n",
       "    }\n",
       "</style>\n",
       "<table border=\"1\" class=\"dataframe\">\n",
       "  <thead>\n",
       "    <tr style=\"text-align: right;\">\n",
       "      <th></th>\n",
       "      <th>amount</th>\n",
       "      <th>oldbalanceOrg</th>\n",
       "      <th>newbalanceOrig</th>\n",
       "      <th>oldbalanceDest</th>\n",
       "      <th>newbalanceDest</th>\n",
       "      <th>isFraud</th>\n",
       "    </tr>\n",
       "  </thead>\n",
       "  <tbody>\n",
       "    <tr>\n",
       "      <th>amount</th>\n",
       "      <td>1.000000</td>\n",
       "      <td>-0.002762</td>\n",
       "      <td>-0.007861</td>\n",
       "      <td>0.294137</td>\n",
       "      <td>0.459304</td>\n",
       "      <td>0.076688</td>\n",
       "    </tr>\n",
       "    <tr>\n",
       "      <th>oldbalanceOrg</th>\n",
       "      <td>-0.002762</td>\n",
       "      <td>1.000000</td>\n",
       "      <td>0.998803</td>\n",
       "      <td>0.066243</td>\n",
       "      <td>0.042029</td>\n",
       "      <td>0.010154</td>\n",
       "    </tr>\n",
       "    <tr>\n",
       "      <th>newbalanceOrig</th>\n",
       "      <td>-0.007861</td>\n",
       "      <td>0.998803</td>\n",
       "      <td>1.000000</td>\n",
       "      <td>0.067812</td>\n",
       "      <td>0.041837</td>\n",
       "      <td>-0.008148</td>\n",
       "    </tr>\n",
       "    <tr>\n",
       "      <th>oldbalanceDest</th>\n",
       "      <td>0.294137</td>\n",
       "      <td>0.066243</td>\n",
       "      <td>0.067812</td>\n",
       "      <td>1.000000</td>\n",
       "      <td>0.976569</td>\n",
       "      <td>-0.005885</td>\n",
       "    </tr>\n",
       "    <tr>\n",
       "      <th>newbalanceDest</th>\n",
       "      <td>0.459304</td>\n",
       "      <td>0.042029</td>\n",
       "      <td>0.041837</td>\n",
       "      <td>0.976569</td>\n",
       "      <td>1.000000</td>\n",
       "      <td>0.000535</td>\n",
       "    </tr>\n",
       "    <tr>\n",
       "      <th>isFraud</th>\n",
       "      <td>0.076688</td>\n",
       "      <td>0.010154</td>\n",
       "      <td>-0.008148</td>\n",
       "      <td>-0.005885</td>\n",
       "      <td>0.000535</td>\n",
       "      <td>1.000000</td>\n",
       "    </tr>\n",
       "  </tbody>\n",
       "</table>\n",
       "</div>"
      ],
      "text/plain": [
       "                  amount  oldbalanceOrg  newbalanceOrig  oldbalanceDest  \\\n",
       "amount          1.000000      -0.002762       -0.007861        0.294137   \n",
       "oldbalanceOrg  -0.002762       1.000000        0.998803        0.066243   \n",
       "newbalanceOrig -0.007861       0.998803        1.000000        0.067812   \n",
       "oldbalanceDest  0.294137       0.066243        0.067812        1.000000   \n",
       "newbalanceDest  0.459304       0.042029        0.041837        0.976569   \n",
       "isFraud         0.076688       0.010154       -0.008148       -0.005885   \n",
       "\n",
       "                newbalanceDest   isFraud  \n",
       "amount                0.459304  0.076688  \n",
       "oldbalanceOrg         0.042029  0.010154  \n",
       "newbalanceOrig        0.041837 -0.008148  \n",
       "oldbalanceDest        0.976569 -0.005885  \n",
       "newbalanceDest        1.000000  0.000535  \n",
       "isFraud               0.000535  1.000000  "
      ]
     },
     "execution_count": 32,
     "metadata": {},
     "output_type": "execute_result"
    }
   ],
   "source": [
    "corr"
   ]
  },
  {
   "cell_type": "code",
   "execution_count": 33,
   "id": "4a2bb205",
   "metadata": {
    "execution": {
     "iopub.execute_input": "2025-07-03T02:54:53.407455Z",
     "iopub.status.busy": "2025-07-03T02:54:53.407168Z",
     "iopub.status.idle": "2025-07-03T02:54:53.821484Z",
     "shell.execute_reply": "2025-07-03T02:54:53.820330Z"
    },
    "papermill": {
     "duration": 0.430729,
     "end_time": "2025-07-03T02:54:53.823288",
     "exception": false,
     "start_time": "2025-07-03T02:54:53.392559",
     "status": "completed"
    },
    "tags": []
   },
   "outputs": [
    {
     "data": {
      "text/plain": [
       "Text(0.5, 1.0, 'Correlation Heatmap')"
      ]
     },
     "execution_count": 33,
     "metadata": {},
     "output_type": "execute_result"
    },
    {
     "data": {
      "image/png": "[encoded data removed]",
      "text/plain": [
       "<Figure size 640x480 with 2 Axes>"
      ]
     },
     "metadata": {},
     "output_type": "display_data"
    }
   ],
   "source": [
    "sns.heatmap(corr, annot=True, cmap='coolwarm', fmt='.2f', linewidths=0.5)\n",
    "plt.title(\"Correlation Heatmap\")"
   ]
  },
  {
   "cell_type": "code",
   "execution_count": 34,
   "id": "41988178",
   "metadata": {
    "execution": {
     "iopub.execute_input": "2025-07-03T02:54:53.854773Z",
     "iopub.status.busy": "2025-07-03T02:54:53.854418Z",
     "iopub.status.idle": "2025-07-03T02:54:54.277176Z",
     "shell.execute_reply": "2025-07-03T02:54:54.276058Z"
    },
    "papermill": {
     "duration": 0.440747,
     "end_time": "2025-07-03T02:54:54.279395",
     "exception": false,
     "start_time": "2025-07-03T02:54:53.838648",
     "status": "completed"
    },
    "tags": []
   },
   "outputs": [],
   "source": [
    "zero_after_transfer = df[\n",
    "    (df['oldbalanceOrg'] > 0) & \n",
    "    (df['newbalanceOrig'] == 0) &\n",
    "    (df['type'].isin(['TRANSFER', 'CASH_OUT']))\n",
    "]"
   ]
  },
  {
   "cell_type": "code",
   "execution_count": 35,
   "id": "e9310720",
   "metadata": {
    "execution": {
     "iopub.execute_input": "2025-07-03T02:54:54.314773Z",
     "iopub.status.busy": "2025-07-03T02:54:54.314418Z",
     "iopub.status.idle": "2025-07-03T02:54:54.320368Z",
     "shell.execute_reply": "2025-07-03T02:54:54.319458Z"
    },
    "papermill": {
     "duration": 0.026012,
     "end_time": "2025-07-03T02:54:54.321894",
     "exception": false,
     "start_time": "2025-07-03T02:54:54.295882",
     "status": "completed"
    },
    "tags": []
   },
   "outputs": [
    {
     "data": {
      "text/plain": [
       "1188074"
      ]
     },
     "execution_count": 35,
     "metadata": {},
     "output_type": "execute_result"
    }
   ],
   "source": [
    "len(zero_after_transfer)"
   ]
  },
  {
   "cell_type": "code",
   "execution_count": 36,
   "id": "35007ddf",
   "metadata": {
    "execution": {
     "iopub.execute_input": "2025-07-03T02:54:54.353763Z",
     "iopub.status.busy": "2025-07-03T02:54:54.353422Z",
     "iopub.status.idle": "2025-07-03T02:54:54.417472Z",
     "shell.execute_reply": "2025-07-03T02:54:54.416450Z"
    },
    "papermill": {
     "duration": 0.081611,
     "end_time": "2025-07-03T02:54:54.419012",
     "exception": false,
     "start_time": "2025-07-03T02:54:54.337401",
     "status": "completed"
    },
    "tags": []
   },
   "outputs": [
    {
     "data": {
      "text/html": [
       "<div>\n",
       "<style scoped>\n",
       "    .dataframe tbody tr th:only-of-type {\n",
       "        vertical-align: middle;\n",
       "    }\n",
       "\n",
       "    .dataframe tbody tr th {\n",
       "        vertical-align: top;\n",
       "    }\n",
       "\n",
       "    .dataframe thead th {\n",
       "        text-align: right;\n",
       "    }\n",
       "</style>\n",
       "<table border=\"1\" class=\"dataframe\">\n",
       "  <thead>\n",
       "    <tr style=\"text-align: right;\">\n",
       "      <th></th>\n",
       "      <th>type</th>\n",
       "      <th>amount</th>\n",
       "      <th>nameOrig</th>\n",
       "      <th>oldbalanceOrg</th>\n",
       "      <th>newbalanceOrig</th>\n",
       "      <th>nameDest</th>\n",
       "      <th>oldbalanceDest</th>\n",
       "      <th>newbalanceDest</th>\n",
       "      <th>isFraud</th>\n",
       "      <th>isFlaggedFraud</th>\n",
       "      <th>balanceDiffOrig</th>\n",
       "      <th>balanceDiffDest</th>\n",
       "    </tr>\n",
       "  </thead>\n",
       "  <tbody>\n",
       "    <tr>\n",
       "      <th>516902</th>\n",
       "      <td>CASH_OUT</td>\n",
       "      <td>129912.73</td>\n",
       "      <td>C2013857121</td>\n",
       "      <td>15568.00</td>\n",
       "      <td>0.0</td>\n",
       "      <td>C348485616</td>\n",
       "      <td>0.00</td>\n",
       "      <td>129912.73</td>\n",
       "      <td>0</td>\n",
       "      <td>0</td>\n",
       "      <td>15568.00</td>\n",
       "      <td>129912.73</td>\n",
       "    </tr>\n",
       "    <tr>\n",
       "      <th>369566</th>\n",
       "      <td>CASH_OUT</td>\n",
       "      <td>516517.30</td>\n",
       "      <td>C1160921253</td>\n",
       "      <td>204813.00</td>\n",
       "      <td>0.0</td>\n",
       "      <td>C834334360</td>\n",
       "      <td>177239.68</td>\n",
       "      <td>693756.98</td>\n",
       "      <td>0</td>\n",
       "      <td>0</td>\n",
       "      <td>204813.00</td>\n",
       "      <td>516517.30</td>\n",
       "    </tr>\n",
       "    <tr>\n",
       "      <th>2662491</th>\n",
       "      <td>CASH_OUT</td>\n",
       "      <td>436885.63</td>\n",
       "      <td>C979768321</td>\n",
       "      <td>9048.00</td>\n",
       "      <td>0.0</td>\n",
       "      <td>C433183062</td>\n",
       "      <td>2539362.49</td>\n",
       "      <td>2976248.12</td>\n",
       "      <td>0</td>\n",
       "      <td>0</td>\n",
       "      <td>9048.00</td>\n",
       "      <td>436885.63</td>\n",
       "    </tr>\n",
       "    <tr>\n",
       "      <th>3876424</th>\n",
       "      <td>CASH_OUT</td>\n",
       "      <td>228800.87</td>\n",
       "      <td>C1483144434</td>\n",
       "      <td>9154.83</td>\n",
       "      <td>0.0</td>\n",
       "      <td>C836148567</td>\n",
       "      <td>1888407.39</td>\n",
       "      <td>2117208.26</td>\n",
       "      <td>0</td>\n",
       "      <td>0</td>\n",
       "      <td>9154.83</td>\n",
       "      <td>228800.87</td>\n",
       "    </tr>\n",
       "    <tr>\n",
       "      <th>4245642</th>\n",
       "      <td>TRANSFER</td>\n",
       "      <td>134057.04</td>\n",
       "      <td>C74040572</td>\n",
       "      <td>74179.00</td>\n",
       "      <td>0.0</td>\n",
       "      <td>C1352224973</td>\n",
       "      <td>2159221.65</td>\n",
       "      <td>2293278.68</td>\n",
       "      <td>0</td>\n",
       "      <td>0</td>\n",
       "      <td>74179.00</td>\n",
       "      <td>134057.03</td>\n",
       "    </tr>\n",
       "  </tbody>\n",
       "</table>\n",
       "</div>"
      ],
      "text/plain": [
       "             type     amount     nameOrig  oldbalanceOrg  newbalanceOrig  \\\n",
       "516902   CASH_OUT  129912.73  C2013857121       15568.00             0.0   \n",
       "369566   CASH_OUT  516517.30  C1160921253      204813.00             0.0   \n",
       "2662491  CASH_OUT  436885.63   C979768321        9048.00             0.0   \n",
       "3876424  CASH_OUT  228800.87  C1483144434        9154.83             0.0   \n",
       "4245642  TRANSFER  134057.04    C74040572       74179.00             0.0   \n",
       "\n",
       "            nameDest  oldbalanceDest  newbalanceDest  isFraud  isFlaggedFraud  \\\n",
       "516902    C348485616            0.00       129912.73        0               0   \n",
       "369566    C834334360       177239.68       693756.98        0               0   \n",
       "2662491   C433183062      2539362.49      2976248.12        0               0   \n",
       "3876424   C836148567      1888407.39      2117208.26        0               0   \n",
       "4245642  C1352224973      2159221.65      2293278.68        0               0   \n",
       "\n",
       "         balanceDiffOrig  balanceDiffDest  \n",
       "516902          15568.00        129912.73  \n",
       "369566         204813.00        516517.30  \n",
       "2662491          9048.00        436885.63  \n",
       "3876424          9154.83        228800.87  \n",
       "4245642         74179.00        134057.03  "
      ]
     },
     "execution_count": 36,
     "metadata": {},
     "output_type": "execute_result"
    }
   ],
   "source": [
    "zero_after_transfer.sample(5)"
   ]
  },
  {
   "cell_type": "markdown",
   "id": "1243a2b8",
   "metadata": {
    "papermill": {
     "duration": 0.01446,
     "end_time": "2025-07-03T02:54:54.448474",
     "exception": false,
     "start_time": "2025-07-03T02:54:54.434014",
     "status": "completed"
    },
    "tags": []
   },
   "source": [
    "# Modeling"
   ]
  },
  {
   "cell_type": "code",
   "execution_count": 37,
   "id": "55df5994",
   "metadata": {
    "execution": {
     "iopub.execute_input": "2025-07-03T02:54:54.479174Z",
     "iopub.status.busy": "2025-07-03T02:54:54.478850Z",
     "iopub.status.idle": "2025-07-03T02:54:54.493836Z",
     "shell.execute_reply": "2025-07-03T02:54:54.492917Z"
    },
    "papermill": {
     "duration": 0.031982,
     "end_time": "2025-07-03T02:54:54.495313",
     "exception": false,
     "start_time": "2025-07-03T02:54:54.463331",
     "status": "completed"
    },
    "tags": []
   },
   "outputs": [
    {
     "data": {
      "text/html": [
       "<div>\n",
       "<style scoped>\n",
       "    .dataframe tbody tr th:only-of-type {\n",
       "        vertical-align: middle;\n",
       "    }\n",
       "\n",
       "    .dataframe tbody tr th {\n",
       "        vertical-align: top;\n",
       "    }\n",
       "\n",
       "    .dataframe thead th {\n",
       "        text-align: right;\n",
       "    }\n",
       "</style>\n",
       "<table border=\"1\" class=\"dataframe\">\n",
       "  <thead>\n",
       "    <tr style=\"text-align: right;\">\n",
       "      <th></th>\n",
       "      <th>type</th>\n",
       "      <th>amount</th>\n",
       "      <th>nameOrig</th>\n",
       "      <th>oldbalanceOrg</th>\n",
       "      <th>newbalanceOrig</th>\n",
       "      <th>nameDest</th>\n",
       "      <th>oldbalanceDest</th>\n",
       "      <th>newbalanceDest</th>\n",
       "      <th>isFraud</th>\n",
       "      <th>isFlaggedFraud</th>\n",
       "      <th>balanceDiffOrig</th>\n",
       "      <th>balanceDiffDest</th>\n",
       "    </tr>\n",
       "  </thead>\n",
       "  <tbody>\n",
       "    <tr>\n",
       "      <th>0</th>\n",
       "      <td>PAYMENT</td>\n",
       "      <td>9839.64</td>\n",
       "      <td>C1231006815</td>\n",
       "      <td>170136.0</td>\n",
       "      <td>160296.36</td>\n",
       "      <td>M1979787155</td>\n",
       "      <td>0.0</td>\n",
       "      <td>0.0</td>\n",
       "      <td>0</td>\n",
       "      <td>0</td>\n",
       "      <td>9839.64</td>\n",
       "      <td>0.0</td>\n",
       "    </tr>\n",
       "    <tr>\n",
       "      <th>1</th>\n",
       "      <td>PAYMENT</td>\n",
       "      <td>1864.28</td>\n",
       "      <td>C1666544295</td>\n",
       "      <td>21249.0</td>\n",
       "      <td>19384.72</td>\n",
       "      <td>M2044282225</td>\n",
       "      <td>0.0</td>\n",
       "      <td>0.0</td>\n",
       "      <td>0</td>\n",
       "      <td>0</td>\n",
       "      <td>1864.28</td>\n",
       "      <td>0.0</td>\n",
       "    </tr>\n",
       "    <tr>\n",
       "      <th>2</th>\n",
       "      <td>TRANSFER</td>\n",
       "      <td>181.00</td>\n",
       "      <td>C1305486145</td>\n",
       "      <td>181.0</td>\n",
       "      <td>0.00</td>\n",
       "      <td>C553264065</td>\n",
       "      <td>0.0</td>\n",
       "      <td>0.0</td>\n",
       "      <td>1</td>\n",
       "      <td>0</td>\n",
       "      <td>181.00</td>\n",
       "      <td>0.0</td>\n",
       "    </tr>\n",
       "    <tr>\n",
       "      <th>3</th>\n",
       "      <td>CASH_OUT</td>\n",
       "      <td>181.00</td>\n",
       "      <td>C840083671</td>\n",
       "      <td>181.0</td>\n",
       "      <td>0.00</td>\n",
       "      <td>C38997010</td>\n",
       "      <td>21182.0</td>\n",
       "      <td>0.0</td>\n",
       "      <td>1</td>\n",
       "      <td>0</td>\n",
       "      <td>181.00</td>\n",
       "      <td>-21182.0</td>\n",
       "    </tr>\n",
       "    <tr>\n",
       "      <th>4</th>\n",
       "      <td>PAYMENT</td>\n",
       "      <td>11668.14</td>\n",
       "      <td>C2048537720</td>\n",
       "      <td>41554.0</td>\n",
       "      <td>29885.86</td>\n",
       "      <td>M1230701703</td>\n",
       "      <td>0.0</td>\n",
       "      <td>0.0</td>\n",
       "      <td>0</td>\n",
       "      <td>0</td>\n",
       "      <td>11668.14</td>\n",
       "      <td>0.0</td>\n",
       "    </tr>\n",
       "  </tbody>\n",
       "</table>\n",
       "</div>"
      ],
      "text/plain": [
       "       type    amount     nameOrig  oldbalanceOrg  newbalanceOrig  \\\n",
       "0   PAYMENT   9839.64  C1231006815       170136.0       160296.36   \n",
       "1   PAYMENT   1864.28  C1666544295        21249.0        19384.72   \n",
       "2  TRANSFER    181.00  C1305486145          181.0            0.00   \n",
       "3  CASH_OUT    181.00   C840083671          181.0            0.00   \n",
       "4   PAYMENT  11668.14  C2048537720        41554.0        29885.86   \n",
       "\n",
       "      nameDest  oldbalanceDest  newbalanceDest  isFraud  isFlaggedFraud  \\\n",
       "0  M1979787155             0.0             0.0        0               0   \n",
       "1  M2044282225             0.0             0.0        0               0   \n",
       "2   C553264065             0.0             0.0        1               0   \n",
       "3    C38997010         21182.0             0.0        1               0   \n",
       "4  M1230701703             0.0             0.0        0               0   \n",
       "\n",
       "   balanceDiffOrig  balanceDiffDest  \n",
       "0          9839.64              0.0  \n",
       "1          1864.28              0.0  \n",
       "2           181.00              0.0  \n",
       "3           181.00         -21182.0  \n",
       "4         11668.14              0.0  "
      ]
     },
     "execution_count": 37,
     "metadata": {},
     "output_type": "execute_result"
    }
   ],
   "source": [
    "df.head()"
   ]
  },
  {
   "cell_type": "code",
   "execution_count": 38,
   "id": "91a464e0",
   "metadata": {
    "execution": {
     "iopub.execute_input": "2025-07-03T02:54:54.529116Z",
     "iopub.status.busy": "2025-07-03T02:54:54.528825Z",
     "iopub.status.idle": "2025-07-03T02:54:54.765616Z",
     "shell.execute_reply": "2025-07-03T02:54:54.764809Z"
    },
    "papermill": {
     "duration": 0.254927,
     "end_time": "2025-07-03T02:54:54.767205",
     "exception": false,
     "start_time": "2025-07-03T02:54:54.512278",
     "status": "completed"
    },
    "tags": []
   },
   "outputs": [],
   "source": [
    "df_modeling = df.drop(columns=['nameOrig', 'nameDest', 'isFlaggedFraud'])"
   ]
  },
  {
   "cell_type": "code",
   "execution_count": 39,
   "id": "4c638445",
   "metadata": {
    "execution": {
     "iopub.execute_input": "2025-07-03T02:54:54.799975Z",
     "iopub.status.busy": "2025-07-03T02:54:54.799241Z",
     "iopub.status.idle": "2025-07-03T02:54:54.813747Z",
     "shell.execute_reply": "2025-07-03T02:54:54.812621Z"
    },
    "papermill": {
     "duration": 0.032604,
     "end_time": "2025-07-03T02:54:54.815417",
     "exception": false,
     "start_time": "2025-07-03T02:54:54.782813",
     "status": "completed"
    },
    "tags": []
   },
   "outputs": [
    {
     "data": {
      "text/html": [
       "<div>\n",
       "<style scoped>\n",
       "    .dataframe tbody tr th:only-of-type {\n",
       "        vertical-align: middle;\n",
       "    }\n",
       "\n",
       "    .dataframe tbody tr th {\n",
       "        vertical-align: top;\n",
       "    }\n",
       "\n",
       "    .dataframe thead th {\n",
       "        text-align: right;\n",
       "    }\n",
       "</style>\n",
       "<table border=\"1\" class=\"dataframe\">\n",
       "  <thead>\n",
       "    <tr style=\"text-align: right;\">\n",
       "      <th></th>\n",
       "      <th>type</th>\n",
       "      <th>amount</th>\n",
       "      <th>oldbalanceOrg</th>\n",
       "      <th>newbalanceOrig</th>\n",
       "      <th>oldbalanceDest</th>\n",
       "      <th>newbalanceDest</th>\n",
       "      <th>isFraud</th>\n",
       "      <th>balanceDiffOrig</th>\n",
       "      <th>balanceDiffDest</th>\n",
       "    </tr>\n",
       "  </thead>\n",
       "  <tbody>\n",
       "    <tr>\n",
       "      <th>0</th>\n",
       "      <td>PAYMENT</td>\n",
       "      <td>9839.64</td>\n",
       "      <td>170136.0</td>\n",
       "      <td>160296.36</td>\n",
       "      <td>0.0</td>\n",
       "      <td>0.0</td>\n",
       "      <td>0</td>\n",
       "      <td>9839.64</td>\n",
       "      <td>0.0</td>\n",
       "    </tr>\n",
       "    <tr>\n",
       "      <th>1</th>\n",
       "      <td>PAYMENT</td>\n",
       "      <td>1864.28</td>\n",
       "      <td>21249.0</td>\n",
       "      <td>19384.72</td>\n",
       "      <td>0.0</td>\n",
       "      <td>0.0</td>\n",
       "      <td>0</td>\n",
       "      <td>1864.28</td>\n",
       "      <td>0.0</td>\n",
       "    </tr>\n",
       "    <tr>\n",
       "      <th>2</th>\n",
       "      <td>TRANSFER</td>\n",
       "      <td>181.00</td>\n",
       "      <td>181.0</td>\n",
       "      <td>0.00</td>\n",
       "      <td>0.0</td>\n",
       "      <td>0.0</td>\n",
       "      <td>1</td>\n",
       "      <td>181.00</td>\n",
       "      <td>0.0</td>\n",
       "    </tr>\n",
       "    <tr>\n",
       "      <th>3</th>\n",
       "      <td>CASH_OUT</td>\n",
       "      <td>181.00</td>\n",
       "      <td>181.0</td>\n",
       "      <td>0.00</td>\n",
       "      <td>21182.0</td>\n",
       "      <td>0.0</td>\n",
       "      <td>1</td>\n",
       "      <td>181.00</td>\n",
       "      <td>-21182.0</td>\n",
       "    </tr>\n",
       "    <tr>\n",
       "      <th>4</th>\n",
       "      <td>PAYMENT</td>\n",
       "      <td>11668.14</td>\n",
       "      <td>41554.0</td>\n",
       "      <td>29885.86</td>\n",
       "      <td>0.0</td>\n",
       "      <td>0.0</td>\n",
       "      <td>0</td>\n",
       "      <td>11668.14</td>\n",
       "      <td>0.0</td>\n",
       "    </tr>\n",
       "  </tbody>\n",
       "</table>\n",
       "</div>"
      ],
      "text/plain": [
       "       type    amount  oldbalanceOrg  newbalanceOrig  oldbalanceDest  \\\n",
       "0   PAYMENT   9839.64       170136.0       160296.36             0.0   \n",
       "1   PAYMENT   1864.28        21249.0        19384.72             0.0   \n",
       "2  TRANSFER    181.00          181.0            0.00             0.0   \n",
       "3  CASH_OUT    181.00          181.0            0.00         21182.0   \n",
       "4   PAYMENT  11668.14        41554.0        29885.86             0.0   \n",
       "\n",
       "   newbalanceDest  isFraud  balanceDiffOrig  balanceDiffDest  \n",
       "0             0.0        0          9839.64              0.0  \n",
       "1             0.0        0          1864.28              0.0  \n",
       "2             0.0        1           181.00              0.0  \n",
       "3             0.0        1           181.00         -21182.0  \n",
       "4             0.0        0         11668.14              0.0  "
      ]
     },
     "execution_count": 39,
     "metadata": {},
     "output_type": "execute_result"
    }
   ],
   "source": [
    "df_modeling.head()  "
   ]
  },
  {
   "cell_type": "code",
   "execution_count": 40,
   "id": "95784ea7",
   "metadata": {
    "execution": {
     "iopub.execute_input": "2025-07-03T02:54:54.848288Z",
     "iopub.status.busy": "2025-07-03T02:54:54.847976Z",
     "iopub.status.idle": "2025-07-03T02:54:54.852535Z",
     "shell.execute_reply": "2025-07-03T02:54:54.851618Z"
    },
    "papermill": {
     "duration": 0.023481,
     "end_time": "2025-07-03T02:54:54.854348",
     "exception": false,
     "start_time": "2025-07-03T02:54:54.830867",
     "status": "completed"
    },
    "tags": []
   },
   "outputs": [],
   "source": [
    "cat = ['type']\n",
    "num = ['amount', 'oldbalanceOrg', 'newbalanceOrig', 'oldbalanceDest', 'newbalanceDest']"
   ]
  },
  {
   "cell_type": "code",
   "execution_count": 41,
   "id": "dd396752",
   "metadata": {
    "execution": {
     "iopub.execute_input": "2025-07-03T02:54:54.886463Z",
     "iopub.status.busy": "2025-07-03T02:54:54.886197Z",
     "iopub.status.idle": "2025-07-03T02:54:55.144856Z",
     "shell.execute_reply": "2025-07-03T02:54:55.144102Z"
    },
    "papermill": {
     "duration": 0.276655,
     "end_time": "2025-07-03T02:54:55.146476",
     "exception": false,
     "start_time": "2025-07-03T02:54:54.869821",
     "status": "completed"
    },
    "tags": []
   },
   "outputs": [],
   "source": [
    "x = df_modeling.drop(columns='isFraud')\n",
    "y = df_modeling['isFraud']"
   ]
  },
  {
   "cell_type": "code",
   "execution_count": 42,
   "id": "49b348da",
   "metadata": {
    "execution": {
     "iopub.execute_input": "2025-07-03T02:54:55.178465Z",
     "iopub.status.busy": "2025-07-03T02:54:55.178186Z",
     "iopub.status.idle": "2025-07-03T02:54:59.582938Z",
     "shell.execute_reply": "2025-07-03T02:54:59.582066Z"
    },
    "papermill": {
     "duration": 4.422598,
     "end_time": "2025-07-03T02:54:59.584477",
     "exception": false,
     "start_time": "2025-07-03T02:54:55.161879",
     "status": "completed"
    },
    "tags": []
   },
   "outputs": [],
   "source": [
    "x_train, x_test, y_train, y_test = train_test_split(x, y, test_size=0.3, random_state=42, stratify=y)"
   ]
  },
  {
   "cell_type": "code",
   "execution_count": 43,
   "id": "5b5d2c7d",
   "metadata": {
    "execution": {
     "iopub.execute_input": "2025-07-03T02:54:59.620977Z",
     "iopub.status.busy": "2025-07-03T02:54:59.620618Z",
     "iopub.status.idle": "2025-07-03T02:54:59.625421Z",
     "shell.execute_reply": "2025-07-03T02:54:59.624448Z"
    },
    "papermill": {
     "duration": 0.024922,
     "end_time": "2025-07-03T02:54:59.626911",
     "exception": false,
     "start_time": "2025-07-03T02:54:59.601989",
     "status": "completed"
    },
    "tags": []
   },
   "outputs": [],
   "source": [
    "preprocessor = ColumnTransformer(\n",
    "    transformers=[\n",
    "        ('num', StandardScaler(), num),\n",
    "        ('cat', OneHotEncoder(), cat)\n",
    "    ]\n",
    ") "
   ]
  },
  {
   "cell_type": "code",
   "execution_count": 44,
   "id": "221d72a7",
   "metadata": {
    "execution": {
     "iopub.execute_input": "2025-07-03T02:54:59.659053Z",
     "iopub.status.busy": "2025-07-03T02:54:59.658772Z",
     "iopub.status.idle": "2025-07-03T02:54:59.663549Z",
     "shell.execute_reply": "2025-07-03T02:54:59.662654Z"
    },
    "papermill": {
     "duration": 0.022832,
     "end_time": "2025-07-03T02:54:59.665396",
     "exception": false,
     "start_time": "2025-07-03T02:54:59.642564",
     "status": "completed"
    },
    "tags": []
   },
   "outputs": [],
   "source": [
    "pipeline  = Pipeline([\n",
    "    ('preprocessor', preprocessor),\n",
    "    ('classifier', LogisticRegression(max_iter=1000, random_state=42, class_weight='balanced'))\n",
    "])"
   ]
  },
  {
   "cell_type": "code",
   "execution_count": 45,
   "id": "ced259af",
   "metadata": {
    "execution": {
     "iopub.execute_input": "2025-07-03T02:54:59.697538Z",
     "iopub.status.busy": "2025-07-03T02:54:59.697248Z",
     "iopub.status.idle": "2025-07-03T02:55:48.917746Z",
     "shell.execute_reply": "2025-07-03T02:55:48.916889Z"
    },
    "papermill": {
     "duration": 49.255545,
     "end_time": "2025-07-03T02:55:48.936533",
     "exception": false,
     "start_time": "2025-07-03T02:54:59.680988",
     "status": "completed"
    },
    "tags": []
   },
   "outputs": [
    {
     "data": {
      "text/html": [
       "<style>#sk-container-id-1 {\n",
       "  /* Definition of color scheme common for light and dark mode */\n",
       "  --sklearn-color-text: #000;\n",
       "  --sklearn-color-text-muted: #666;\n",
       "  --sklearn-color-line: gray;\n",
       "  /* Definition of color scheme for unfitted estimators */\n",
       "  --sklearn-color-unfitted-level-0: #fff5e6;\n",
       "  --sklearn-color-unfitted-level-1: #f6e4d2;\n",
       "  --sklearn-color-unfitted-level-2: #ffe0b3;\n",
       "  --sklearn-color-unfitted-level-3: chocolate;\n",
       "  /* Definition of color scheme for fitted estimators */\n",
       "  --sklearn-color-fitted-level-0: #f0f8ff;\n",
       "  --sklearn-color-fitted-level-1: #d4ebff;\n",
       "  --sklearn-color-fitted-level-2: #b3dbfd;\n",
       "  --sklearn-color-fitted-level-3: cornflowerblue;\n",
       "\n",
       "  /* Specific color for light theme */\n",
       "  --sklearn-color-text-on-default-background: var(--sg-text-color, var(--theme-code-foreground, var(--jp-content-font-color1, black)));\n",
       "  --sklearn-color-background: var(--sg-background-color, var(--theme-background, var(--jp-layout-color0, white)));\n",
       "  --sklearn-color-border-box: var(--sg-text-color, var(--theme-code-foreground, var(--jp-content-font-color1, black)));\n",
       "  --sklearn-color-icon: #696969;\n",
       "\n",
       "  @media (prefers-color-scheme: dark) {\n",
       "    /* Redefinition of color scheme for dark theme */\n",
       "    --sklearn-color-text-on-default-background: var(--sg-text-color, var(--theme-code-foreground, var(--jp-content-font-color1, white)));\n",
       "    --sklearn-color-background: var(--sg-background-color, var(--theme-background, var(--jp-layout-color0, #111)));\n",
       "    --sklearn-color-border-box: var(--sg-text-color, var(--theme-code-foreground, var(--jp-content-font-color1, white)));\n",
       "    --sklearn-color-icon: #878787;\n",
       "  }\n",
       "}\n",
       "\n",
       "#sk-container-id-1 {\n",
       "  color: var(--sklearn-color-text);\n",
       "}\n",
       "\n",
       "#sk-container-id-1 pre {\n",
       "  padding: 0;\n",
       "}\n",
       "\n",
       "#sk-container-id-1 input.sk-hidden--visually {\n",
       "  border: 0;\n",
       "  clip: rect(1px 1px 1px 1px);\n",
       "  clip: rect(1px, 1px, 1px, 1px);\n",
       "  height: 1px;\n",
       "  margin: -1px;\n",
       "  overflow: hidden;\n",
       "  padding: 0;\n",
       "  position: absolute;\n",
       "  width: 1px;\n",
       "}\n",
       "\n",
       "#sk-container-id-1 div.sk-dashed-wrapped {\n",
       "  border: 1px dashed var(--sklearn-color-line);\n",
       "  margin: 0 0.4em 0.5em 0.4em;\n",
       "  box-sizing: border-box;\n",
       "  padding-bottom: 0.4em;\n",
       "  background-color: var(--sklearn-color-background);\n",
       "}\n",
       "\n",
       "#sk-container-id-1 div.sk-container {\n",
       "  /* jupyter's `normalize.less` sets `[hidden] { display: none; }`\n",
       "     but bootstrap.min.css set `[hidden] { display: none !important; }`\n",
       "     so we also need the `!important` here to be able to override the\n",
       "     default hidden behavior on the sphinx rendered scikit-learn.org.\n",
       "     See: https://github.com/scikit-learn/scikit-learn/issues/21755 */\n",
       "  display: inline-block !important;\n",
       "  position: relative;\n",
       "}\n",
       "\n",
       "#sk-container-id-1 div.sk-text-repr-fallback {\n",
       "  display: none;\n",
       "}\n",
       "\n",
       "div.sk-parallel-item,\n",
       "div.sk-serial,\n",
       "div.sk-item {\n",
       "  /* draw centered vertical line to link estimators */\n",
       "  background-image: linear-gradient(var(--sklearn-color-text-on-default-background), var(--sklearn-color-text-on-default-background));\n",
       "  background-size: 2px 100%;\n",
       "  background-repeat: no-repeat;\n",
       "  background-position: center center;\n",
       "}\n",
       "\n",
       "/* Parallel-specific style estimator block */\n",
       "\n",
       "#sk-container-id-1 div.sk-parallel-item::after {\n",
       "  content: \"\";\n",
       "  width: 100%;\n",
       "  border-bottom: 2px solid var(--sklearn-color-text-on-default-background);\n",
       "  flex-grow: 1;\n",
       "}\n",
       "\n",
       "#sk-container-id-1 div.sk-parallel {\n",
       "  display: flex;\n",
       "  align-items: stretch;\n",
       "  justify-content: center;\n",
       "  background-color: var(--sklearn-color-background);\n",
       "  position: relative;\n",
       "}\n",
       "\n",
       "#sk-container-id-1 div.sk-parallel-item {\n",
       "  display: flex;\n",
       "  flex-direction: column;\n",
       "}\n",
       "\n",
       "#sk-container-id-1 div.sk-parallel-item:first-child::after {\n",
       "  align-self: flex-end;\n",
       "  width: 50%;\n",
       "}\n",
       "\n",
       "#sk-container-id-1 div.sk-parallel-item:last-child::after {\n",
       "  align-self: flex-start;\n",
       "  width: 50%;\n",
       "}\n",
       "\n",
       "#sk-container-id-1 div.sk-parallel-item:only-child::after {\n",
       "  width: 0;\n",
       "}\n",
       "\n",
       "/* Serial-specific style estimator block */\n",
       "\n",
       "#sk-container-id-1 div.sk-serial {\n",
       "  display: flex;\n",
       "  flex-direction: column;\n",
       "  align-items: center;\n",
       "  background-color: var(--sklearn-color-background);\n",
       "  padding-right: 1em;\n",
       "  padding-left: 1em;\n",
       "}\n",
       "\n",
       "\n",
       "/* Toggleable style: style used for estimator/Pipeline/ColumnTransformer box that is\n",
       "clickable and can be expanded/collapsed.\n",
       "- Pipeline and ColumnTransformer use this feature and define the default style\n",
       "- Estimators will overwrite some part of the style using the `sk-estimator` class\n",
       "*/\n",
       "\n",
       "/* Pipeline and ColumnTransformer style (default) */\n",
       "\n",
       "#sk-container-id-1 div.sk-toggleable {\n",
       "  /* Default theme specific background. It is overwritten whether we have a\n",
       "  specific estimator or a Pipeline/ColumnTransformer */\n",
       "  background-color: var(--sklearn-color-background);\n",
       "}\n",
       "\n",
       "/* Toggleable label */\n",
       "#sk-container-id-1 label.sk-toggleable__label {\n",
       "  cursor: pointer;\n",
       "  display: flex;\n",
       "  width: 100%;\n",
       "  margin-bottom: 0;\n",
       "  padding: 0.5em;\n",
       "  box-sizing: border-box;\n",
       "  text-align: center;\n",
       "  align-items: start;\n",
       "  justify-content: space-between;\n",
       "  gap: 0.5em;\n",
       "}\n",
       "\n",
       "#sk-container-id-1 label.sk-toggleable__label .caption {\n",
       "  font-size: 0.6rem;\n",
       "  font-weight: lighter;\n",
       "  color: var(--sklearn-color-text-muted);\n",
       "}\n",
       "\n",
       "#sk-container-id-1 label.sk-toggleable__label-arrow:before {\n",
       "  /* Arrow on the left of the label */\n",
       "  content: \"▸\";\n",
       "  float: left;\n",
       "  margin-right: 0.25em;\n",
       "  color: var(--sklearn-color-icon);\n",
       "}\n",
       "\n",
       "#sk-container-id-1 label.sk-toggleable__label-arrow:hover:before {\n",
       "  color: var(--sklearn-color-text);\n",
       "}\n",
       "\n",
       "/* Toggleable content - dropdown */\n",
       "\n",
       "#sk-container-id-1 div.sk-toggleable__content {\n",
       "  max-height: 0;\n",
       "  max-width: 0;\n",
       "  overflow: hidden;\n",
       "  text-align: left;\n",
       "  /* unfitted */\n",
       "  background-color: var(--sklearn-color-unfitted-level-0);\n",
       "}\n",
       "\n",
       "#sk-container-id-1 div.sk-toggleable__content.fitted {\n",
       "  /* fitted */\n",
       "  background-color: var(--sklearn-color-fitted-level-0);\n",
       "}\n",
       "\n",
       "#sk-container-id-1 div.sk-toggleable__content pre {\n",
       "  margin: 0.2em;\n",
       "  border-radius: 0.25em;\n",
       "  color: var(--sklearn-color-text);\n",
       "  /* unfitted */\n",
       "  background-color: var(--sklearn-color-unfitted-level-0);\n",
       "}\n",
       "\n",
       "#sk-container-id-1 div.sk-toggleable__content.fitted pre {\n",
       "  /* unfitted */\n",
       "  background-color: var(--sklearn-color-fitted-level-0);\n",
       "}\n",
       "\n",
       "#sk-container-id-1 input.sk-toggleable__control:checked~div.sk-toggleable__content {\n",
       "  /* Expand drop-down */\n",
       "  max-height: 200px;\n",
       "  max-width: 100%;\n",
       "  overflow: auto;\n",
       "}\n",
       "\n",
       "#sk-container-id-1 input.sk-toggleable__control:checked~label.sk-toggleable__label-arrow:before {\n",
       "  content: \"▾\";\n",
       "}\n",
       "\n",
       "/* Pipeline/ColumnTransformer-specific style */\n",
       "\n",
       "#sk-container-id-1 div.sk-label input.sk-toggleable__control:checked~label.sk-toggleable__label {\n",
       "  color: var(--sklearn-color-text);\n",
       "  background-color: var(--sklearn-color-unfitted-level-2);\n",
       "}\n",
       "\n",
       "#sk-container-id-1 div.sk-label.fitted input.sk-toggleable__control:checked~label.sk-toggleable__label {\n",
       "  background-color: var(--sklearn-color-fitted-level-2);\n",
       "}\n",
       "\n",
       "/* Estimator-specific style */\n",
       "\n",
       "/* Colorize estimator box */\n",
       "#sk-container-id-1 div.sk-estimator input.sk-toggleable__control:checked~label.sk-toggleable__label {\n",
       "  /* unfitted */\n",
       "  background-color: var(--sklearn-color-unfitted-level-2);\n",
       "}\n",
       "\n",
       "#sk-container-id-1 div.sk-estimator.fitted input.sk-toggleable__control:checked~label.sk-toggleable__label {\n",
       "  /* fitted */\n",
       "  background-color: var(--sklearn-color-fitted-level-2);\n",
       "}\n",
       "\n",
       "#sk-container-id-1 div.sk-label label.sk-toggleable__label,\n",
       "#sk-container-id-1 div.sk-label label {\n",
       "  /* The background is the default theme color */\n",
       "  color: var(--sklearn-color-text-on-default-background);\n",
       "}\n",
       "\n",
       "/* On hover, darken the color of the background */\n",
       "#sk-container-id-1 div.sk-label:hover label.sk-toggleable__label {\n",
       "  color: var(--sklearn-color-text);\n",
       "  background-color: var(--sklearn-color-unfitted-level-2);\n",
       "}\n",
       "\n",
       "/* Label box, darken color on hover, fitted */\n",
       "#sk-container-id-1 div.sk-label.fitted:hover label.sk-toggleable__label.fitted {\n",
       "  color: var(--sklearn-color-text);\n",
       "  background-color: var(--sklearn-color-fitted-level-2);\n",
       "}\n",
       "\n",
       "/* Estimator label */\n",
       "\n",
       "#sk-container-id-1 div.sk-label label {\n",
       "  font-family: monospace;\n",
       "  font-weight: bold;\n",
       "  display: inline-block;\n",
       "  line-height: 1.2em;\n",
       "}\n",
       "\n",
       "#sk-container-id-1 div.sk-label-container {\n",
       "  text-align: center;\n",
       "}\n",
       "\n",
       "/* Estimator-specific */\n",
       "#sk-container-id-1 div.sk-estimator {\n",
       "  font-family: monospace;\n",
       "  border: 1px dotted var(--sklearn-color-border-box);\n",
       "  border-radius: 0.25em;\n",
       "  box-sizing: border-box;\n",
       "  margin-bottom: 0.5em;\n",
       "  /* unfitted */\n",
       "  background-color: var(--sklearn-color-unfitted-level-0);\n",
       "}\n",
       "\n",
       "#sk-container-id-1 div.sk-estimator.fitted {\n",
       "  /* fitted */\n",
       "  background-color: var(--sklearn-color-fitted-level-0);\n",
       "}\n",
       "\n",
       "/* on hover */\n",
       "#sk-container-id-1 div.sk-estimator:hover {\n",
       "  /* unfitted */\n",
       "  background-color: var(--sklearn-color-unfitted-level-2);\n",
       "}\n",
       "\n",
       "#sk-container-id-1 div.sk-estimator.fitted:hover {\n",
       "  /* fitted */\n",
       "  background-color: var(--sklearn-color-fitted-level-2);\n",
       "}\n",
       "\n",
       "/* Specification for estimator info (e.g. \"i\" and \"?\") */\n",
       "\n",
       "/* Common style for \"i\" and \"?\" */\n",
       "\n",
       ".sk-estimator-doc-link,\n",
       "a:link.sk-estimator-doc-link,\n",
       "a:visited.sk-estimator-doc-link {\n",
       "  float: right;\n",
       "  font-size: smaller;\n",
       "  line-height: 1em;\n",
       "  font-family: monospace;\n",
       "  background-color: var(--sklearn-color-background);\n",
       "  border-radius: 1em;\n",
       "  height: 1em;\n",
       "  width: 1em;\n",
       "  text-decoration: none !important;\n",
       "  margin-left: 0.5em;\n",
       "  text-align: center;\n",
       "  /* unfitted */\n",
       "  border: var(--sklearn-color-unfitted-level-1) 1pt solid;\n",
       "  color: var(--sklearn-color-unfitted-level-1);\n",
       "}\n",
       "\n",
       ".sk-estimator-doc-link.fitted,\n",
       "a:link.sk-estimator-doc-link.fitted,\n",
       "a:visited.sk-estimator-doc-link.fitted {\n",
       "  /* fitted */\n",
       "  border: var(--sklearn-color-fitted-level-1) 1pt solid;\n",
       "  color: var(--sklearn-color-fitted-level-1);\n",
       "}\n",
       "\n",
       "/* On hover */\n",
       "div.sk-estimator:hover .sk-estimator-doc-link:hover,\n",
       ".sk-estimator-doc-link:hover,\n",
       "div.sk-label-container:hover .sk-estimator-doc-link:hover,\n",
       ".sk-estimator-doc-link:hover {\n",
       "  /* unfitted */\n",
       "  background-color: var(--sklearn-color-unfitted-level-3);\n",
       "  color: var(--sklearn-color-background);\n",
       "  text-decoration: none;\n",
       "}\n",
       "\n",
       "div.sk-estimator.fitted:hover .sk-estimator-doc-link.fitted:hover,\n",
       ".sk-estimator-doc-link.fitted:hover,\n",
       "div.sk-label-container:hover .sk-estimator-doc-link.fitted:hover,\n",
       ".sk-estimator-doc-link.fitted:hover {\n",
       "  /* fitted */\n",
       "  background-color: var(--sklearn-color-fitted-level-3);\n",
       "  color: var(--sklearn-color-background);\n",
       "  text-decoration: none;\n",
       "}\n",
       "\n",
       "/* Span, style for the box shown on hovering the info icon */\n",
       ".sk-estimator-doc-link span {\n",
       "  display: none;\n",
       "  z-index: 9999;\n",
       "  position: relative;\n",
       "  font-weight: normal;\n",
       "  right: .2ex;\n",
       "  padding: .5ex;\n",
       "  margin: .5ex;\n",
       "  width: min-content;\n",
       "  min-width: 20ex;\n",
       "  max-width: 50ex;\n",
       "  color: var(--sklearn-color-text);\n",
       "  box-shadow: 2pt 2pt 4pt #999;\n",
       "  /* unfitted */\n",
       "  background: var(--sklearn-color-unfitted-level-0);\n",
       "  border: .5pt solid var(--sklearn-color-unfitted-level-3);\n",
       "}\n",
       "\n",
       ".sk-estimator-doc-link.fitted span {\n",
       "  /* fitted */\n",
       "  background: var(--sklearn-color-fitted-level-0);\n",
       "  border: var(--sklearn-color-fitted-level-3);\n",
       "}\n",
       "\n",
       ".sk-estimator-doc-link:hover span {\n",
       "  display: block;\n",
       "}\n",
       "\n",
       "/* \"?\"-specific style due to the `<a>` HTML tag */\n",
       "\n",
       "#sk-container-id-1 a.estimator_doc_link {\n",
       "  float: right;\n",
       "  font-size: 1rem;\n",
       "  line-height: 1em;\n",
       "  font-family: monospace;\n",
       "  background-color: var(--sklearn-color-background);\n",
       "  border-radius: 1rem;\n",
       "  height: 1rem;\n",
       "  width: 1rem;\n",
       "  text-decoration: none;\n",
       "  /* unfitted */\n",
       "  color: var(--sklearn-color-unfitted-level-1);\n",
       "  border: var(--sklearn-color-unfitted-level-1) 1pt solid;\n",
       "}\n",
       "\n",
       "#sk-container-id-1 a.estimator_doc_link.fitted {\n",
       "  /* fitted */\n",
       "  border: var(--sklearn-color-fitted-level-1) 1pt solid;\n",
       "  color: var(--sklearn-color-fitted-level-1);\n",
       "}\n",
       "\n",
       "/* On hover */\n",
       "#sk-container-id-1 a.estimator_doc_link:hover {\n",
       "  /* unfitted */\n",
       "  background-color: var(--sklearn-color-unfitted-level-3);\n",
       "  color: var(--sklearn-color-background);\n",
       "  text-decoration: none;\n",
       "}\n",
       "\n",
       "#sk-container-id-1 a.estimator_doc_link.fitted:hover {\n",
       "  /* fitted */\n",
       "  background-color: var(--sklearn-color-fitted-level-3);\n",
       "}\n",
       "</style><div id=\"sk-container-id-1\" class=\"sk-top-container\"><div class=\"sk-text-repr-fallback\"><pre>Pipeline(steps=[(&#x27;preprocessor&#x27;,\n",
       "                 ColumnTransformer(transformers=[(&#x27;num&#x27;, StandardScaler(),\n",
       "                                                  [&#x27;amount&#x27;, &#x27;oldbalanceOrg&#x27;,\n",
       "                                                   &#x27;newbalanceOrig&#x27;,\n",
       "                                                   &#x27;oldbalanceDest&#x27;,\n",
       "                                                   &#x27;newbalanceDest&#x27;]),\n",
       "                                                 (&#x27;cat&#x27;, OneHotEncoder(),\n",
       "                                                  [&#x27;type&#x27;])])),\n",
       "                (&#x27;classifier&#x27;,\n",
       "                 LogisticRegression(class_weight=&#x27;balanced&#x27;, max_iter=1000,\n",
       "                                    random_state=42))])</pre><b>In a Jupyter environment, please rerun this cell to show the HTML representation or trust the notebook. <br />On GitHub, the HTML representation is unable to render, please try loading this page with nbviewer.org.</b></div><div class=\"sk-container\" hidden><div class=\"sk-item sk-dashed-wrapped\"><div class=\"sk-label-container\"><div class=\"sk-label fitted sk-toggleable\"><input class=\"sk-toggleable__control sk-hidden--visually\" id=\"sk-estimator-id-1\" type=\"checkbox\" ><label for=\"sk-estimator-id-1\" class=\"sk-toggleable__label fitted sk-toggleable__label-arrow\"><div><div>Pipeline</div></div><div><a class=\"sk-estimator-doc-link fitted\" rel=\"noreferrer\" target=\"_blank\" href=\"https://scikit-learn.org/1.6/modules/generated/sklearn.pipeline.Pipeline.html\">?<span>Documentation for Pipeline</span></a><span class=\"sk-estimator-doc-link fitted\">i<span>Fitted</span></span></div></label><div class=\"sk-toggleable__content fitted\"><pre>Pipeline(steps=[(&#x27;preprocessor&#x27;,\n",
       "                 ColumnTransformer(transformers=[(&#x27;num&#x27;, StandardScaler(),\n",
       "                                                  [&#x27;amount&#x27;, &#x27;oldbalanceOrg&#x27;,\n",
       "                                                   &#x27;newbalanceOrig&#x27;,\n",
       "                                                   &#x27;oldbalanceDest&#x27;,\n",
       "                                                   &#x27;newbalanceDest&#x27;]),\n",
       "                                                 (&#x27;cat&#x27;, OneHotEncoder(),\n",
       "                                                  [&#x27;type&#x27;])])),\n",
       "                (&#x27;classifier&#x27;,\n",
       "                 LogisticRegression(class_weight=&#x27;balanced&#x27;, max_iter=1000,\n",
       "                                    random_state=42))])</pre></div> </div></div><div class=\"sk-serial\"><div class=\"sk-item sk-dashed-wrapped\"><div class=\"sk-label-container\"><div class=\"sk-label fitted sk-toggleable\"><input class=\"sk-toggleable__control sk-hidden--visually\" id=\"sk-estimator-id-2\" type=\"checkbox\" ><label for=\"sk-estimator-id-2\" class=\"sk-toggleable__label fitted sk-toggleable__label-arrow\"><div><div>preprocessor: ColumnTransformer</div></div><div><a class=\"sk-estimator-doc-link fitted\" rel=\"noreferrer\" target=\"_blank\" href=\"https://scikit-learn.org/1.6/modules/generated/sklearn.compose.ColumnTransformer.html\">?<span>Documentation for preprocessor: ColumnTransformer</span></a></div></label><div class=\"sk-toggleable__content fitted\"><pre>ColumnTransformer(transformers=[(&#x27;num&#x27;, StandardScaler(),\n",
       "                                 [&#x27;amount&#x27;, &#x27;oldbalanceOrg&#x27;, &#x27;newbalanceOrig&#x27;,\n",
       "                                  &#x27;oldbalanceDest&#x27;, &#x27;newbalanceDest&#x27;]),\n",
       "                                (&#x27;cat&#x27;, OneHotEncoder(), [&#x27;type&#x27;])])</pre></div> </div></div><div class=\"sk-parallel\"><div class=\"sk-parallel-item\"><div class=\"sk-item\"><div class=\"sk-label-container\"><div class=\"sk-label fitted sk-toggleable\"><input class=\"sk-toggleable__control sk-hidden--visually\" id=\"sk-estimator-id-3\" type=\"checkbox\" ><label for=\"sk-estimator-id-3\" class=\"sk-toggleable__label fitted sk-toggleable__label-arrow\"><div><div>num</div></div></label><div class=\"sk-toggleable__content fitted\"><pre>[&#x27;amount&#x27;, &#x27;oldbalanceOrg&#x27;, &#x27;newbalanceOrig&#x27;, &#x27;oldbalanceDest&#x27;, &#x27;newbalanceDest&#x27;]</pre></div> </div></div><div class=\"sk-serial\"><div class=\"sk-item\"><div class=\"sk-estimator fitted sk-toggleable\"><input class=\"sk-toggleable__control sk-hidden--visually\" id=\"sk-estimator-id-4\" type=\"checkbox\" ><label for=\"sk-estimator-id-4\" class=\"sk-toggleable__label fitted sk-toggleable__label-arrow\"><div><div>StandardScaler</div></div><div><a class=\"sk-estimator-doc-link fitted\" rel=\"noreferrer\" target=\"_blank\" href=\"https://scikit-learn.org/1.6/modules/generated/sklearn.preprocessing.StandardScaler.html\">?<span>Documentation for StandardScaler</span></a></div></label><div class=\"sk-toggleable__content fitted\"><pre>StandardScaler()</pre></div> </div></div></div></div></div><div class=\"sk-parallel-item\"><div class=\"sk-item\"><div class=\"sk-label-container\"><div class=\"sk-label fitted sk-toggleable\"><input class=\"sk-toggleable__control sk-hidden--visually\" id=\"sk-estimator-id-5\" type=\"checkbox\" ><label for=\"sk-estimator-id-5\" class=\"sk-toggleable__label fitted sk-toggleable__label-arrow\"><div><div>cat</div></div></label><div class=\"sk-toggleable__content fitted\"><pre>[&#x27;type&#x27;]</pre></div> </div></div><div class=\"sk-serial\"><div class=\"sk-item\"><div class=\"sk-estimator fitted sk-toggleable\"><input class=\"sk-toggleable__control sk-hidden--visually\" id=\"sk-estimator-id-6\" type=\"checkbox\" ><label for=\"sk-estimator-id-6\" class=\"sk-toggleable__label fitted sk-toggleable__label-arrow\"><div><div>OneHotEncoder</div></div><div><a class=\"sk-estimator-doc-link fitted\" rel=\"noreferrer\" target=\"_blank\" href=\"https://scikit-learn.org/1.6/modules/generated/sklearn.preprocessing.OneHotEncoder.html\">?<span>Documentation for OneHotEncoder</span></a></div></label><div class=\"sk-toggleable__content fitted\"><pre>OneHotEncoder()</pre></div> </div></div></div></div></div></div></div><div class=\"sk-item\"><div class=\"sk-estimator fitted sk-toggleable\"><input class=\"sk-toggleable__control sk-hidden--visually\" id=\"sk-estimator-id-7\" type=\"checkbox\" ><label for=\"sk-estimator-id-7\" class=\"sk-toggleable__label fitted sk-toggleable__label-arrow\"><div><div>LogisticRegression</div></div><div><a class=\"sk-estimator-doc-link fitted\" rel=\"noreferrer\" target=\"_blank\" href=\"https://scikit-learn.org/1.6/modules/generated/sklearn.linear_model.LogisticRegression.html\">?<span>Documentation for LogisticRegression</span></a></div></label><div class=\"sk-toggleable__content fitted\"><pre>LogisticRegression(class_weight=&#x27;balanced&#x27;, max_iter=1000, random_state=42)</pre></div> </div></div></div></div></div></div>"
      ],
      "text/plain": [
       "Pipeline(steps=[('preprocessor',\n",
       "                 ColumnTransformer(transformers=[('num', StandardScaler(),\n",
       "                                                  ['amount', 'oldbalanceOrg',\n",
       "                                                   'newbalanceOrig',\n",
       "                                                   'oldbalanceDest',\n",
       "                                                   'newbalanceDest']),\n",
       "                                                 ('cat', OneHotEncoder(),\n",
       "                                                  ['type'])])),\n",
       "                ('classifier',\n",
       "                 LogisticRegression(class_weight='balanced', max_iter=1000,\n",
       "                                    random_state=42))])"
      ]
     },
     "execution_count": 45,
     "metadata": {},
     "output_type": "execute_result"
    }
   ],
   "source": [
    "pipeline.fit(x_train, y_train)"
   ]
  },
  {
   "cell_type": "code",
   "execution_count": 46,
   "id": "8b353e0f",
   "metadata": {
    "execution": {
     "iopub.execute_input": "2025-07-03T02:55:48.970523Z",
     "iopub.status.busy": "2025-07-03T02:55:48.970235Z",
     "iopub.status.idle": "2025-07-03T02:55:49.741814Z",
     "shell.execute_reply": "2025-07-03T02:55:49.741053Z"
    },
    "papermill": {
     "duration": 0.790733,
     "end_time": "2025-07-03T02:55:49.743484",
     "exception": false,
     "start_time": "2025-07-03T02:55:48.952751",
     "status": "completed"
    },
    "tags": []
   },
   "outputs": [],
   "source": [
    "ypred = pipeline.predict(x_test)"
   ]
  },
  {
   "cell_type": "code",
   "execution_count": 47,
   "id": "38b7841f",
   "metadata": {
    "execution": {
     "iopub.execute_input": "2025-07-03T02:55:49.778952Z",
     "iopub.status.busy": "2025-07-03T02:55:49.778563Z",
     "iopub.status.idle": "2025-07-03T02:55:52.674883Z",
     "shell.execute_reply": "2025-07-03T02:55:52.673407Z"
    },
    "papermill": {
     "duration": 2.915671,
     "end_time": "2025-07-03T02:55:52.676555",
     "exception": false,
     "start_time": "2025-07-03T02:55:49.760884",
     "status": "completed"
    },
    "tags": []
   },
   "outputs": [
    {
     "name": "stdout",
     "output_type": "stream",
     "text": [
      "              precision    recall  f1-score   support\n",
      "\n",
      "           0       1.00      0.95      0.97   1906322\n",
      "           1       0.02      0.94      0.04      2464\n",
      "\n",
      "    accuracy                           0.95   1908786\n",
      "   macro avg       0.51      0.94      0.51   1908786\n",
      "weighted avg       1.00      0.95      0.97   1908786\n",
      "\n"
     ]
    }
   ],
   "source": [
    "print(classification_report(y_test, ypred))"
   ]
  },
  {
   "cell_type": "code",
   "execution_count": 48,
   "id": "f85f4a38",
   "metadata": {
    "execution": {
     "iopub.execute_input": "2025-07-03T02:55:52.720453Z",
     "iopub.status.busy": "2025-07-03T02:55:52.720137Z",
     "iopub.status.idle": "2025-07-03T02:55:53.674921Z",
     "shell.execute_reply": "2025-07-03T02:55:53.674023Z"
    },
    "papermill": {
     "duration": 0.98225,
     "end_time": "2025-07-03T02:55:53.676407",
     "exception": false,
     "start_time": "2025-07-03T02:55:52.694157",
     "status": "completed"
    },
    "tags": []
   },
   "outputs": [
    {
     "data": {
      "text/plain": [
       "94.67064406381857"
      ]
     },
     "execution_count": 48,
     "metadata": {},
     "output_type": "execute_result"
    }
   ],
   "source": [
    "pipeline.score(x_test, y_test) * 100"
   ]
  },
  {
   "cell_type": "code",
   "execution_count": 49,
   "id": "9c86a1e4",
   "metadata": {},
   "outputs": [
    {
     "data": {
      "text/plain": [
       "['fraud_detection_pipeline.pkl']"
      ]
     },
     "execution_count": 49,
     "metadata": {},
     "output_type": "execute_result"
    }
   ],
   "source": [
    "joblib.dump(pipeline, 'fraud_detection_pipeline.pkl')"
   ]
  }
 ],
 "metadata": {
  "kaggle": {
   "accelerator": "none",
   "dataSources": [
    {
     "datasetId": 6988295,
     "sourceId": 11193915,
     "sourceType": "datasetVersion"
    }
   ],
   "dockerImageVersionId": 31040,
   "isGpuEnabled": false,
   "isInternetEnabled": true,
   "language": "python",
   "sourceType": "notebook"
  },
  "kernelspec": {
   "display_name": "Python 3",
   "language": "python",
   "name": "python3"
  },
  "language_info": {
   "codemirror_mode": {
    "name": "ipython",
    "version": 3
   },
   "file_extension": ".py",
   "mimetype": "text/x-python",
   "name": "python",
   "nbconvert_exporter": "python",
   "pygments_lexer": "ipython3",
   "version": "3.13.5"
  },
  "papermill": {
   "default_parameters": {},
   "duration": 199.269976,
   "end_time": "2025-07-03T02:55:55.205098",
   "environment_variables": {},
   "exception": null,
   "input_path": "__notebook__.ipynb",
   "output_path": "__notebook__.ipynb",
   "parameters": {},
   "start_time": "2025-07-03T02:52:35.935122",
   "version": "2.6.0"
  }
 },
 "nbformat": 4,
 "nbformat_minor": 5
}
